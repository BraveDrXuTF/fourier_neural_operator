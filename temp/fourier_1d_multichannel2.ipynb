{
 "cells": [
  {
   "attachments": {},
   "cell_type": "markdown",
   "metadata": {},
   "source": [
    "## Fourier Neural Operator 1D"
   ]
  },
  {
   "cell_type": "code",
   "execution_count": 1,
   "metadata": {},
   "outputs": [
    {
     "name": "stderr",
     "output_type": "stream",
     "text": [
      "c:\\Users\\s1612415\\AppData\\Local\\Programs\\Python\\Python310\\lib\\site-packages\\tqdm\\auto.py:22: TqdmWarning: IProgress not found. Please update jupyter and ipywidgets. See https://ipywidgets.readthedocs.io/en/stable/user_install.html\n",
      "  from .autonotebook import tqdm as notebook_tqdm\n"
     ]
    }
   ],
   "source": [
    "## Imports \n",
    "import matplotlib.pyplot as plt \n",
    "import numpy as np \n",
    "import torch \n",
    "import torch.nn as nn\n",
    "from timeit import default_timer"
   ]
  },
  {
   "cell_type": "code",
   "execution_count": 2,
   "metadata": {},
   "outputs": [],
   "source": [
    "## Set seeds\n",
    "torch.manual_seed(0)\n",
    "np.random.seed(0)"
   ]
  },
  {
   "attachments": {},
   "cell_type": "markdown",
   "metadata": {},
   "source": [
    "## Create Data"
   ]
  },
  {
   "attachments": {},
   "cell_type": "markdown",
   "metadata": {},
   "source": [
    "### Ordinary Differential Equation:\n",
    "\n",
    "\\begin{align*}\n",
    "m\\frac{d^2x}{dt^2} = - kx\n",
    "\\end{align*}\n",
    "\n",
    "Solution: \n",
    "$$x(t) = x_0 \\cos{\\left(\\sqrt{\\frac{k}{m}}t\\right)} + \\frac{v_0}{\\sqrt{\\frac{k}{m}}}\\sin{\\left(\\sqrt{\\frac{k}{m}}t\\right)}$$"
   ]
  },
  {
   "cell_type": "code",
   "execution_count": 3,
   "metadata": {},
   "outputs": [],
   "source": [
    "## TODO: Create Simple Harmonic Oscillator Class"
   ]
  },
  {
   "cell_type": "code",
   "execution_count": 4,
   "metadata": {},
   "outputs": [],
   "source": [
    "## Simple Harmonic Oscillator\n",
    "def simple_harmonic_oscillator(k: int, m: int, x0: int, v0: int, t: np.array) -> np.array:\n",
    "    x = x0 * np.cos(np.sqrt(k / m) * t) + v0 / np.sqrt(k / m) * np.sin(np.sqrt(k / m) * t)\n",
    "    return x    "
   ]
  },
  {
   "cell_type": "code",
   "execution_count": 5,
   "metadata": {},
   "outputs": [],
   "source": [
    "## Number of Samples \n",
    "n = 100000\n",
    "## Output\n",
    "data_t = []\n",
    "data_x = []\n",
    "\n",
    "# k = np.random.randint(1, 100)\n",
    "# m = np.random.randint(1, 100)\n",
    "# x0 = np.random.normal(0, 10)\n",
    "# v0 = np.random.normal(0, 10)\n",
    "k = 1\n",
    "m = 1000\n",
    "# x0 = 1\n",
    "# v0 = 1\n",
    "\n",
    "## Generate Data\n",
    "for _ in range(n):\n",
    "    # k = np.random.randint(1, 100)\n",
    "    # m = np.random.randint(1, 100)\n",
    "    x0 = np.random.normal(0, 10)\n",
    "    v0 = np.random.normal(0, 10)\n",
    "    \n",
    "    t = np.random.uniform(0, 100)\n",
    "    data_t.append([[x0], [v0], [t]])\n",
    "    data_x.append(simple_harmonic_oscillator(k, m, x0, v0, t))"
   ]
  },
  {
   "cell_type": "code",
   "execution_count": 6,
   "metadata": {},
   "outputs": [],
   "source": [
    "## Plot\n",
    "# plt.scatter(data_t, data_x, alpha=0.5)\n",
    "# plt.show()"
   ]
  },
  {
   "cell_type": "code",
   "execution_count": 7,
   "metadata": {},
   "outputs": [],
   "source": [
    "data_t = np.array(torch.tensor(data_t).float())\n",
    "data_x = np.array(torch.tensor(data_x).float().unsqueeze(1).unsqueeze(1))"
   ]
  },
  {
   "cell_type": "code",
   "execution_count": 8,
   "metadata": {},
   "outputs": [],
   "source": [
    "## Data Loader\n",
    "from torch.utils.data import Dataset, DataLoader\n",
    "import pandas as pd\n",
    "\n",
    "class CustomDataset(Dataset):\n",
    "    def __init__(self, t, x):\n",
    "        self.t = t\n",
    "        self.x = x\n",
    "\n",
    "    def __len__(self):\n",
    "        return len(self.t)\n",
    "    \n",
    "    def __getitem__(self, index):\n",
    "        return self.t[index], self.x[index]\n",
    "\n",
    "data = CustomDataset(data_t, data_x)"
   ]
  },
  {
   "cell_type": "code",
   "execution_count": 9,
   "metadata": {},
   "outputs": [
    {
     "data": {
      "text/plain": [
       "array([[17.640524],\n",
       "       [ 4.001572],\n",
       "       [60.276337]], dtype=float32)"
      ]
     },
     "execution_count": 9,
     "metadata": {},
     "output_type": "execute_result"
    }
   ],
   "source": [
    "data[0][0]"
   ]
  },
  {
   "cell_type": "code",
   "execution_count": 10,
   "metadata": {},
   "outputs": [
    {
     "data": {
      "text/plain": [
       "(3, 1)"
      ]
     },
     "execution_count": 10,
     "metadata": {},
     "output_type": "execute_result"
    }
   ],
   "source": [
    "data[0][0].shape"
   ]
  },
  {
   "cell_type": "code",
   "execution_count": 11,
   "metadata": {},
   "outputs": [],
   "source": [
    "dataloader = DataLoader(data, batch_size=64, shuffle=True)"
   ]
  },
  {
   "attachments": {},
   "cell_type": "markdown",
   "metadata": {},
   "source": [
    "## Build Network"
   ]
  },
  {
   "cell_type": "code",
   "execution_count": 12,
   "metadata": {},
   "outputs": [
    {
     "name": "stdout",
     "output_type": "stream",
     "text": [
      "Using cpu device.\n"
     ]
    }
   ],
   "source": [
    "## Get Device for Training\n",
    "device = 'cuda' if torch.cuda.is_available() else 'cpu'\n",
    "print(f'Using {device} device.')"
   ]
  },
  {
   "cell_type": "code",
   "execution_count": 13,
   "metadata": {},
   "outputs": [],
   "source": [
    "## Fourier Integral Kernel 1D\n",
    "class FourierIntegralKernel1D(nn.Module):\n",
    "    def __init__(self, in_channels: int, out_channels: int, modes: int):\n",
    "        super(FourierIntegralKernel1D, self).__init__()\n",
    "        '''\n",
    "        '''\n",
    "        self.in_channels = in_channels\n",
    "        self.out_channels = out_channels \n",
    "        self.modes = modes \n",
    "        ## Set (random) weights for the linear transform\n",
    "        weights = torch.rand(self.modes, self.out_channels, self.in_channels, dtype=torch.cfloat) \n",
    "        self.weights = nn.Parameter(weights / (self.in_channels * self.out_channels)) ## Optional: Scale weights\n",
    "\n",
    "    def forward(self, v: torch.Tensor) -> torch.Tensor:\n",
    "        '''\n",
    "        FFT -> Linear Transform -> Inverse FFT\n",
    "        '''\n",
    "        ## FFT\n",
    "        v_rfft = torch.fft.rfft(v) \n",
    "\n",
    "        ## Linear Transform \n",
    "        lv_rfft = torch.zeros(v_rfft.shape, dtype=torch.cfloat)\n",
    "        lv_rfft[:, :, :self.modes] = torch.einsum('koi, bki -> bko', self.weights, v_rfft[:, :, :self.modes].permute(0, 2, 1)).permute(0, 2, 1) ## TODO: Should I have 5 dimensions here?\n",
    "        \n",
    "        ## Inverse FFT\n",
    "        v2 = torch.fft.irfft(lv_rfft, n=v.shape[-1])\n",
    "        return v2\n",
    "        "
   ]
  },
  {
   "cell_type": "code",
   "execution_count": 14,
   "metadata": {},
   "outputs": [],
   "source": [
    "## Fourier Network Operator 1D\n",
    "class FourierNetworkOperator1D(nn.Module):\n",
    "    def __init__(self, da: int, du: int, width: int, modes: int):\n",
    "        super(FourierNetworkOperator1D, self).__init__()\n",
    "        '''\n",
    "        '''\n",
    "        self.width = width\n",
    "        self.modes = modes\n",
    "\n",
    "        ## P: Lifts the lower dimensional function to higher dimensional space\n",
    "        self.P = nn.Conv1d(da, self.width, 1) ## TODO: Change da\n",
    "\n",
    "        ## K: Fourier integral kernel operator\n",
    "        self.k0 = FourierIntegralKernel1D(self.width, self.width, self.modes)\n",
    "        self.k1 = FourierIntegralKernel1D(self.width, self.width, self.modes)\n",
    "        self.k2 = FourierIntegralKernel1D(self.width, self.width, self.modes)\n",
    "        self.k3 = FourierIntegralKernel1D(self.width, self.width, self.modes)\n",
    "        self.k4 = FourierIntegralKernel1D(self.width, self.width, self.modes)\n",
    "        self.k5 = FourierIntegralKernel1D(self.width, self.width, self.modes)\n",
    "        self.k6 = FourierIntegralKernel1D(self.width, self.width, self.modes)\n",
    "        self.k7 = FourierIntegralKernel1D(self.width, self.width, self.modes)\n",
    "        self.k8 = FourierIntegralKernel1D(self.width, self.width, self.modes)\n",
    "        self.k9 = FourierIntegralKernel1D(self.width, self.width, self.modes)\n",
    "\n",
    "        ## W: Pointwise linear operator\n",
    "        self.w0 = nn.Conv1d(self.width, self.width, 1)\n",
    "        self.w1 = nn.Conv1d(self.width, self.width, 1)\n",
    "        self.w2 = nn.Conv1d(self.width, self.width, 1)\n",
    "        self.w3 = nn.Conv1d(self.width, self.width, 1)\n",
    "        self.w4 = nn.Conv1d(self.width, self.width, 1)\n",
    "        self.w5 = nn.Conv1d(self.width, self.width, 1)\n",
    "        self.w6 = nn.Conv1d(self.width, self.width, 1)\n",
    "        self.w7 = nn.Conv1d(self.width, self.width, 1)\n",
    "        self.w8 = nn.Conv1d(self.width, self.width, 1)\n",
    "        self.w9 = nn.Conv1d(self.width, self.width, 1)\n",
    "\n",
    "        ## Q: Projects the higher dimensional function to lower dimensional space\n",
    "        self.Q = nn.Conv1d(self.width, du, 1) ## TODO: Change du\n",
    "\n",
    "    def forward(self, x: torch.Tensor) -> torch.Tensor:\n",
    "        '''\n",
    "        '''\n",
    "        ## P\n",
    "        x = self.P(x)\n",
    "\n",
    "        ## Fourier Layer #0\n",
    "        ## K\n",
    "        x1 = self.k0(x)\n",
    "        ## W\n",
    "        x2 = self.w0(x)\n",
    "        ## Sum\n",
    "        x = x1 + x2\n",
    "        ## Gelu\n",
    "        x = nn.functional.gelu(x)\n",
    "        # x = nn.functional.gelu(x1)\n",
    "        # x = nn.functional.gelu(x2)\n",
    "\n",
    "        ## Fourier Layer #1\n",
    "        ## K\n",
    "        x1 = self.k1(x)\n",
    "        ## W\n",
    "        x2 = self.w1(x)\n",
    "        ## Sum \n",
    "        x = x1 + x2\n",
    "        ## Gelu\n",
    "        x = nn.functional.gelu(x)\n",
    "        # x = nn.functional.gelu(x1)\n",
    "        # x = nn.functional.gelu(x2)\n",
    "\n",
    "        ## Fourier Layer #2\n",
    "        ## K\n",
    "        x1 = self.k2(x)\n",
    "        ## W\n",
    "        x2 = self.w2(x)\n",
    "        ## Sum\n",
    "        x = x1 + x2\n",
    "        ## Gelu\n",
    "        x = nn.functional.gelu(x)\n",
    "        # x = nn.functional.gelu(x1)\n",
    "        # x = nn.functional.gelu(x2)\n",
    "\n",
    "        ## Fourier Layer #3\n",
    "        ## K\n",
    "        x1 = self.k3(x)\n",
    "        ## W\n",
    "        x2 = self.w3(x)\n",
    "        ## Sum\n",
    "        x = x1 + x2\n",
    "        ## Gelu\n",
    "        x = nn.functional.gelu(x)\n",
    "        # x = nn.functional.gelu(x1)\n",
    "        # x = nn.functional.gelu(x2)\n",
    "\n",
    "        ## Fourier Layer #4\n",
    "        ## K\n",
    "        x1 = self.k4(x)\n",
    "        ## W\n",
    "        x2 = self.w4(x)\n",
    "        ## Sum\n",
    "        x = x1 + x2\n",
    "        ## Gelu\n",
    "        x = nn.functional.gelu(x)\n",
    "        # x = nn.functional.gelu(x1)\n",
    "        # x = nn.functional.gelu(x2)\n",
    "\n",
    "        ## Fourier Layer #5\n",
    "        ## K\n",
    "        x1 = self.k5(x)\n",
    "        ## W\n",
    "        x2 = self.w5(x)\n",
    "        ## Sum\n",
    "        x = x1 + x2\n",
    "        ## Gelu\n",
    "        x = nn.functional.gelu(x)\n",
    "        # x = nn.functional.gelu(x1)\n",
    "        # x = nn.functional.gelu(x2)\n",
    "\n",
    "        ## Fourier Layer #6\n",
    "        ## K\n",
    "        x1 = self.k6(x)\n",
    "        ## W\n",
    "        x2 = self.w6(x)\n",
    "        ## Sum\n",
    "        x = x1 + x2\n",
    "        ## Gelu\n",
    "        x = nn.functional.gelu(x)\n",
    "        # x = nn.functional.gelu(x1)\n",
    "        # x = nn.functional.gelu(x2)\n",
    "\n",
    "        ## Fourier Layer #7\n",
    "        ## K\n",
    "        x1 = self.k7(x)\n",
    "        ## W\n",
    "        x2 = self.w7(x)\n",
    "        ## Sum\n",
    "        x = x1 + x2\n",
    "        ## Gelu\n",
    "        x = nn.functional.gelu(x)\n",
    "        # x = nn.functional.gelu(x1)\n",
    "        # x = nn.functional.gelu(x2)\n",
    "\n",
    "        ## Fourier Layer #8\n",
    "        ## K\n",
    "        x1 = self.k8(x)\n",
    "        ## W\n",
    "        x2 = self.w8(x)\n",
    "        ## Sum\n",
    "        x = x1 + x2\n",
    "        ## Gelu\n",
    "        x = nn.functional.gelu(x)\n",
    "        # x = nn.functional.gelu(x1)\n",
    "        # x = nn.functional.gelu(x2)\n",
    "\n",
    "        ## Fourier Layer #59\n",
    "        ## K\n",
    "        x1 = self.k9(x)\n",
    "        ## W\n",
    "        x2 = self.w9(x)\n",
    "        ## Sum\n",
    "        x = x1 + x2\n",
    "        ## Gelu\n",
    "        x = nn.functional.gelu(x)\n",
    "        # x = nn.functional.gelu(x1)\n",
    "        # x = nn.functional.gelu(x2)\n",
    "\n",
    "        ## Q\n",
    "        x = self.Q(x)\n",
    "        return x\n"
   ]
  },
  {
   "cell_type": "code",
   "execution_count": 15,
   "metadata": {},
   "outputs": [
    {
     "name": "stdout",
     "output_type": "stream",
     "text": [
      "Number of parameters: 493441\n"
     ]
    }
   ],
   "source": [
    "import operator\n",
    "from functools import reduce\n",
    "\n",
    "def count_parameters(model):\n",
    "    c = 0\n",
    "    for p in list(model.parameters()):\n",
    "        c += reduce(operator.mul, list(p.size() + (2, ) if p.is_complex() else p.size()))\n",
    "    return c\n",
    "\n",
    "model = FourierNetworkOperator1D(3, 1, width=128, modes=1)\n",
    "print(f'Number of parameters: {count_parameters(model)}')"
   ]
  },
  {
   "attachments": {},
   "cell_type": "markdown",
   "metadata": {},
   "source": [
    "## Train"
   ]
  },
  {
   "cell_type": "code",
   "execution_count": 16,
   "metadata": {},
   "outputs": [],
   "source": [
    "## Model Parameters\n",
    "learning_rate = 1e-3\n",
    "epochs = 20"
   ]
  },
  {
   "cell_type": "code",
   "execution_count": 17,
   "metadata": {},
   "outputs": [],
   "source": [
    "## Loss Function\n",
    "loss_function = nn.MSELoss()"
   ]
  },
  {
   "cell_type": "code",
   "execution_count": 18,
   "metadata": {},
   "outputs": [],
   "source": [
    "## Optimizer \n",
    "optimizer = torch.optim.Adam(model.parameters(), lr=learning_rate)"
   ]
  },
  {
   "cell_type": "code",
   "execution_count": 19,
   "metadata": {},
   "outputs": [
    {
     "name": "stdout",
     "output_type": "stream",
     "text": [
      "x0: 5.5709343678595244\n",
      "v0: -12.394982369800756\n"
     ]
    },
    {
     "data": {
      "image/png": "[encoded data removed]",
      "text/plain": [
       "<Figure size 640x480 with 1 Axes>"
      ]
     },
     "metadata": {},
     "output_type": "display_data"
    }
   ],
   "source": [
    "## Test 0\n",
    "# k0 = np.random.randint(1, 100)\n",
    "# print(f'k: {k0}')\n",
    "k0_vec = torch.from_numpy(k * np.ones(100)).float().unsqueeze(0).unsqueeze(0)\n",
    "\n",
    "# m0 = np.random.randint(1, 100)\n",
    "# print(f'm: {m0}')\n",
    "m0_vec = torch.from_numpy(m * np.ones(100)).float().unsqueeze(0).unsqueeze(0)\n",
    "\n",
    "x0 = np.random.normal(0, 10)\n",
    "print(f'x0: {x0}')\n",
    "x0_vec = torch.from_numpy(x0 * np.ones(100)).float().unsqueeze(0).unsqueeze(0)\n",
    "\n",
    "v0 = np.random.normal(0, 10)\n",
    "print(f'v0: {v0}')\n",
    "v0_vec = torch.from_numpy(v0 * np.ones(100)).float().unsqueeze(0).unsqueeze(0)\n",
    "\n",
    "t_test = torch.from_numpy(np.linspace(0, 100, 100)).float().unsqueeze(0).unsqueeze(0)\n",
    "x0_test = simple_harmonic_oscillator(k, m, x0, v0, t_test)\n",
    "\n",
    "plt.scatter(t_test, x0_test, alpha=0.5)\n",
    "plt.scatter(t_test, model(torch.cat((x0_vec, v0_vec, t_test), 1).permute(2, 1, 0)).detach())\n",
    "plt.show()"
   ]
  },
  {
   "cell_type": "code",
   "execution_count": 20,
   "metadata": {},
   "outputs": [
    {
     "name": "stdout",
     "output_type": "stream",
     "text": [
      "x0: 7.899974238474352\n",
      "v0: 2.987599489157073\n"
     ]
    },
    {
     "data": {
      "image/png": "[encoded data removed]",
      "text/plain": [
       "<Figure size 640x480 with 1 Axes>"
      ]
     },
     "metadata": {},
     "output_type": "display_data"
    }
   ],
   "source": [
    "## Test 1\n",
    "# k1 = np.random.randint(1, 100)\n",
    "# print(f'k: {k1}')\n",
    "k1_vec = torch.from_numpy(k * np.ones(100)).float().unsqueeze(0).unsqueeze(0)\n",
    "\n",
    "# m1 = np.random.randint(1, 100)\n",
    "# print(f'm: {m1}')\n",
    "m1_vec = torch.from_numpy(m * np.ones(100)).float().unsqueeze(0).unsqueeze(0)\n",
    "\n",
    "x1 = np.random.normal(0, 10)\n",
    "print(f'x0: {x1}')\n",
    "x1_vec = torch.from_numpy(x1 * np.ones(100)).float().unsqueeze(0).unsqueeze(0)\n",
    "\n",
    "v1 = np.random.normal(0, 10)\n",
    "print(f'v0: {v1}')\n",
    "v1_vec = torch.from_numpy(v0 * np.ones(100)).float().unsqueeze(0).unsqueeze(0)\n",
    "\n",
    "t_test = torch.from_numpy(np.linspace(0, 100, 100)).float().unsqueeze(0).unsqueeze(0)\n",
    "x1_test = simple_harmonic_oscillator(k, m, x1, v1, t_test)\n",
    "\n",
    "plt.scatter(t_test, x1_test, alpha=0.5)\n",
    "plt.scatter(t_test, model(torch.cat((x1_vec, v1_vec, t_test), 1).permute(2, 1, 0)).detach())\n",
    "plt.show()"
   ]
  },
  {
   "cell_type": "code",
   "execution_count": 33,
   "metadata": {},
   "outputs": [
    {
     "name": "stdout",
     "output_type": "stream",
     "text": [
      "x0: 10.378738490171802\n",
      "v0: 4.946031702070616\n"
     ]
    },
    {
     "data": {
      "image/png": "[encoded data removed]",
      "text/plain": [
       "<Figure size 640x480 with 1 Axes>"
      ]
     },
     "metadata": {},
     "output_type": "display_data"
    }
   ],
   "source": [
    "## Test 2\n",
    "# k2 = np.random.randint(1, 100)\n",
    "# print(f'k: {k2}')\n",
    "k2_vec = torch.from_numpy(k * np.ones(100)).float().unsqueeze(0).unsqueeze(0)\n",
    "\n",
    "# m2 = np.random.randint(1, 100)\n",
    "# print(f'm: {m2}')\n",
    "m2_vec = torch.from_numpy(m * np.ones(100)).float().unsqueeze(0).unsqueeze(0)\n",
    "\n",
    "x2 = np.random.normal(0, 10)\n",
    "print(f'x0: {x2}')\n",
    "x2_vec = torch.from_numpy(x2 * np.ones(100)).float().unsqueeze(0).unsqueeze(0)\n",
    "\n",
    "v2 = np.random.normal(0, 10)\n",
    "print(f'v0: {v2}')\n",
    "v2_vec = torch.from_numpy(v0 * np.ones(100)).float().unsqueeze(0).unsqueeze(0)\n",
    "\n",
    "t_test = torch.from_numpy(np.linspace(0, 100, 100)).float().unsqueeze(0).unsqueeze(0)\n",
    "x2_test = simple_harmonic_oscillator(k, m, x2, v2, t_test)\n",
    "\n",
    "plt.scatter(t_test, x2_test, alpha=0.5)\n",
    "plt.scatter(t_test, model(torch.cat((x2_vec, v2_vec, t_test), 1).permute(2, 1, 0)).detach())\n",
    "plt.show()"
   ]
  },
  {
   "cell_type": "code",
   "execution_count": 22,
   "metadata": {},
   "outputs": [],
   "source": [
    "## Training Loop\n",
    "def train_loop(dataloader, model, loss_function, optimizer):\n",
    "    size = len(dataloader.dataset)\n",
    "    for batch, (t, x) in enumerate(dataloader):\n",
    "        # Compute prediction and loss\n",
    "        pred = model(t)\n",
    "        loss = loss_function(pred, x)\n",
    "\n",
    "        # Backpropagation\n",
    "        optimizer.zero_grad()\n",
    "        loss.backward()\n",
    "        optimizer.step()\n",
    "\n",
    "        if batch % 100 == 0:\n",
    "            loss, current = loss.item(), batch * len(t)\n",
    "            print(f\"loss: {loss:>7f}  [{current:>5d}/{size:>5d}]\")"
   ]
  },
  {
   "cell_type": "code",
   "execution_count": 27,
   "metadata": {},
   "outputs": [
    {
     "name": "stdout",
     "output_type": "stream",
     "text": [
      "Epoch 1\n",
      "-------------------------------\n",
      "loss: 22.133104  [    0/100000]\n",
      "loss: 17.439312  [ 6400/100000]\n",
      "loss: 69.270859  [12800/100000]\n",
      "loss: 43.070034  [19200/100000]\n",
      "loss: 24.840559  [25600/100000]\n",
      "loss: 170.196060  [32000/100000]\n",
      "loss: 16.044220  [38400/100000]\n",
      "loss: 125.517853  [44800/100000]\n",
      "loss: 17.240551  [51200/100000]\n",
      "loss: 107.516571  [57600/100000]\n",
      "loss: 46.799847  [64000/100000]\n",
      "loss: 61.452328  [70400/100000]\n",
      "loss: 13.360690  [76800/100000]\n",
      "loss: 17.348967  [83200/100000]\n",
      "loss: 35.130051  [89600/100000]\n",
      "loss: 76.085136  [96000/100000]\n",
      "Epoch 2\n",
      "-------------------------------\n",
      "loss: 23.141987  [    0/100000]\n",
      "loss: 41.778118  [ 6400/100000]\n",
      "loss: 8.664422  [12800/100000]\n",
      "loss: 59.033752  [19200/100000]\n",
      "loss: 45.144997  [25600/100000]\n",
      "loss: 132.232605  [32000/100000]\n",
      "loss: 164.685974  [38400/100000]\n",
      "loss: 10.812817  [44800/100000]\n",
      "loss: 17.436529  [51200/100000]\n",
      "loss: 8.466911  [57600/100000]\n",
      "loss: 151.561447  [64000/100000]\n",
      "loss: 41.446445  [70400/100000]\n",
      "loss: 23.731647  [76800/100000]\n",
      "loss: 5.472700  [83200/100000]\n",
      "loss: 50.149532  [89600/100000]\n",
      "loss: 76.973999  [96000/100000]\n",
      "Epoch 3\n",
      "-------------------------------\n",
      "loss: 87.985252  [    0/100000]\n",
      "loss: 50.588875  [ 6400/100000]\n",
      "loss: 16.777206  [12800/100000]\n",
      "loss: 983.455200  [19200/100000]\n",
      "loss: 585.451660  [25600/100000]\n",
      "loss: 20720044.000000  [32000/100000]\n",
      "loss: 1710.615723  [38400/100000]\n",
      "loss: 1239.254517  [44800/100000]\n",
      "loss: 2018.703125  [51200/100000]\n",
      "loss: 554.012390  [57600/100000]\n",
      "loss: 1299.191406  [64000/100000]\n",
      "loss: 474.331573  [70400/100000]\n",
      "loss: 370.502991  [76800/100000]\n",
      "loss: 893.882202  [83200/100000]\n",
      "loss: 412.046997  [89600/100000]\n",
      "loss: 345.619598  [96000/100000]\n",
      "Epoch 4\n",
      "-------------------------------\n",
      "loss: 300.503113  [    0/100000]\n",
      "loss: 163.100571  [ 6400/100000]\n",
      "loss: 153.438156  [12800/100000]\n",
      "loss: 427.426147  [19200/100000]\n",
      "loss: 370.910889  [25600/100000]\n",
      "loss: 156.909729  [32000/100000]\n",
      "loss: 157.589294  [38400/100000]\n",
      "loss: 141.459305  [44800/100000]\n",
      "loss: 126.364632  [51200/100000]\n",
      "loss: 124.974052  [57600/100000]\n",
      "loss: 457.913422  [64000/100000]\n",
      "loss: 341.534821  [70400/100000]\n",
      "loss: 143.888733  [76800/100000]\n",
      "loss: 147.868546  [83200/100000]\n",
      "loss: 114.964630  [89600/100000]\n",
      "loss: 110.885063  [96000/100000]\n",
      "Epoch 5\n",
      "-------------------------------\n",
      "loss: 70.873688  [    0/100000]\n",
      "loss: 151.801025  [ 6400/100000]\n",
      "loss: 242.600128  [12800/100000]\n",
      "loss: 81.238907  [19200/100000]\n",
      "loss: 69.487854  [25600/100000]\n",
      "loss: 48.745689  [32000/100000]\n",
      "loss: 85.875603  [38400/100000]\n",
      "loss: 105.763229  [44800/100000]\n",
      "loss: 139.918549  [51200/100000]\n",
      "loss: 1137.647583  [57600/100000]\n",
      "loss: 92.318863  [64000/100000]\n",
      "loss: 182.722076  [70400/100000]\n",
      "loss: 76.491371  [76800/100000]\n",
      "loss: 40.132309  [83200/100000]\n",
      "loss: 84.284927  [89600/100000]\n",
      "loss: 124.393135  [96000/100000]\n",
      "Epoch 6\n",
      "-------------------------------\n",
      "loss: 730.222595  [    0/100000]\n",
      "loss: 185.852844  [ 6400/100000]\n",
      "loss: 182.163376  [12800/100000]\n",
      "loss: 65.362671  [19200/100000]\n",
      "loss: 70.598495  [25600/100000]\n",
      "loss: 153.881500  [32000/100000]\n",
      "loss: 95.687675  [38400/100000]\n",
      "loss: 277.067200  [44800/100000]\n",
      "loss: 69.901901  [51200/100000]\n",
      "loss: 79.357605  [57600/100000]\n",
      "loss: 144.515045  [64000/100000]\n",
      "loss: 517.027466  [70400/100000]\n",
      "loss: 96.771072  [76800/100000]\n",
      "loss: 202.596283  [83200/100000]\n",
      "loss: 99.177429  [89600/100000]\n",
      "loss: 51.513390  [96000/100000]\n",
      "Epoch 7\n",
      "-------------------------------\n",
      "loss: 46.585636  [    0/100000]\n",
      "loss: 56.575569  [ 6400/100000]\n",
      "loss: 155.351959  [12800/100000]\n",
      "loss: 122.121666  [19200/100000]\n",
      "loss: 144.894028  [25600/100000]\n",
      "loss: 100.806435  [32000/100000]\n",
      "loss: 70.535690  [38400/100000]\n",
      "loss: 75.803024  [44800/100000]\n",
      "loss: 64.939217  [51200/100000]\n",
      "loss: 53.047672  [57600/100000]\n",
      "loss: 220.175873  [64000/100000]\n",
      "loss: 55.136574  [70400/100000]\n",
      "loss: 491.483124  [76800/100000]\n",
      "loss: 107.118423  [83200/100000]\n",
      "loss: 295.667877  [89600/100000]\n",
      "loss: 62.512959  [96000/100000]\n",
      "Epoch 8\n",
      "-------------------------------\n",
      "loss: 623.743042  [    0/100000]\n",
      "loss: 164.600357  [ 6400/100000]\n",
      "loss: 196.308090  [12800/100000]\n",
      "loss: 128.496872  [19200/100000]\n",
      "loss: 110.323257  [25600/100000]\n",
      "loss: 163.658218  [32000/100000]\n",
      "loss: 60.769001  [38400/100000]\n",
      "loss: 75.124565  [44800/100000]\n",
      "loss: 82.582428  [51200/100000]\n",
      "loss: 641.464478  [57600/100000]\n",
      "loss: 381.645660  [64000/100000]\n",
      "loss: 89.185112  [70400/100000]\n",
      "loss: 73.062462  [76800/100000]\n",
      "loss: 39.309216  [83200/100000]\n",
      "loss: 76.630417  [89600/100000]\n",
      "loss: 263.876221  [96000/100000]\n",
      "Epoch 9\n",
      "-------------------------------\n",
      "loss: 48.820122  [    0/100000]\n",
      "loss: 75.885406  [ 6400/100000]\n",
      "loss: 88.698044  [12800/100000]\n",
      "loss: 35.816059  [19200/100000]\n",
      "loss: 67.177872  [25600/100000]\n",
      "loss: 48.916908  [32000/100000]\n",
      "loss: 200.268295  [38400/100000]\n",
      "loss: 45.955498  [44800/100000]\n",
      "loss: 515.334412  [51200/100000]\n",
      "loss: 54.622280  [57600/100000]\n",
      "loss: 34.403629  [64000/100000]\n",
      "loss: 77.609673  [70400/100000]\n",
      "loss: 99.747543  [76800/100000]\n",
      "loss: 84.591553  [83200/100000]\n",
      "loss: 45.764847  [89600/100000]\n",
      "loss: 113.399857  [96000/100000]\n",
      "Epoch 10\n",
      "-------------------------------\n",
      "loss: 213.467957  [    0/100000]\n",
      "loss: 158.492157  [ 6400/100000]\n",
      "loss: 69.168533  [12800/100000]\n",
      "loss: 66.092850  [19200/100000]\n",
      "loss: 45.868740  [25600/100000]\n",
      "loss: 101.735611  [32000/100000]\n",
      "loss: 68.855850  [38400/100000]\n",
      "loss: 133.863297  [44800/100000]\n",
      "loss: 77.097847  [51200/100000]\n",
      "loss: 190.096481  [57600/100000]\n",
      "loss: 149.597839  [64000/100000]\n",
      "loss: 119.410683  [70400/100000]\n",
      "loss: 33.516884  [76800/100000]\n",
      "loss: 126.709854  [83200/100000]\n",
      "loss: 102.592018  [89600/100000]\n",
      "loss: 64.374229  [96000/100000]\n",
      "Epoch 11\n",
      "-------------------------------\n",
      "loss: 66.357559  [    0/100000]\n",
      "loss: 190.658997  [ 6400/100000]\n",
      "loss: 249.237595  [12800/100000]\n",
      "loss: 54.836731  [19200/100000]\n",
      "loss: 37.978687  [25600/100000]\n",
      "loss: 84.673119  [32000/100000]\n",
      "loss: 45.702267  [38400/100000]\n",
      "loss: 44.811462  [44800/100000]\n",
      "loss: 128.797119  [51200/100000]\n",
      "loss: 202.663300  [57600/100000]\n",
      "loss: 45.666878  [64000/100000]\n",
      "loss: 32.501377  [70400/100000]\n",
      "loss: 202.611877  [76800/100000]\n",
      "loss: 28.681511  [83200/100000]\n",
      "loss: 129.851212  [89600/100000]\n",
      "loss: 89.835709  [96000/100000]\n",
      "Epoch 12\n",
      "-------------------------------\n",
      "loss: 34.861549  [    0/100000]\n",
      "loss: 41.120895  [ 6400/100000]\n",
      "loss: 37.969238  [12800/100000]\n",
      "loss: 14.051314  [19200/100000]\n",
      "loss: 54.320618  [25600/100000]\n",
      "loss: 66.256615  [32000/100000]\n",
      "loss: 69.005585  [38400/100000]\n",
      "loss: 878.896729  [44800/100000]\n",
      "loss: 148.968872  [51200/100000]\n",
      "loss: 75.405792  [57600/100000]\n",
      "loss: 55.443920  [64000/100000]\n",
      "loss: 55.899284  [70400/100000]\n",
      "loss: 46.299236  [76800/100000]\n",
      "loss: 26.633739  [83200/100000]\n",
      "loss: 52.162895  [89600/100000]\n",
      "loss: 56.073082  [96000/100000]\n",
      "Epoch 13\n",
      "-------------------------------\n",
      "loss: 89.948647  [    0/100000]\n",
      "loss: 280.120239  [ 6400/100000]\n",
      "loss: 279.944824  [12800/100000]\n",
      "loss: 398.581421  [19200/100000]\n",
      "loss: 276.017639  [25600/100000]\n",
      "loss: 34.324764  [32000/100000]\n",
      "loss: 46.967403  [38400/100000]\n",
      "loss: 49.257233  [44800/100000]\n",
      "loss: 167.796768  [51200/100000]\n",
      "loss: 54.570374  [57600/100000]\n",
      "loss: 31.683376  [64000/100000]\n",
      "loss: 46.867226  [70400/100000]\n",
      "loss: 96.149422  [76800/100000]\n",
      "loss: 49.960220  [83200/100000]\n",
      "loss: 42.460381  [89600/100000]\n",
      "loss: 117.086212  [96000/100000]\n",
      "Epoch 14\n",
      "-------------------------------\n",
      "loss: 102.212509  [    0/100000]\n",
      "loss: 133.028152  [ 6400/100000]\n",
      "loss: 47.853851  [12800/100000]\n",
      "loss: 260.180023  [19200/100000]\n",
      "loss: 88.929611  [25600/100000]\n",
      "loss: 171.979797  [32000/100000]\n",
      "loss: 19.301825  [38400/100000]\n",
      "loss: 136.852600  [44800/100000]\n",
      "loss: 135.925385  [51200/100000]\n",
      "loss: 103.106339  [57600/100000]\n",
      "loss: 16.734076  [64000/100000]\n",
      "loss: 44.828712  [70400/100000]\n",
      "loss: 20.680264  [76800/100000]\n",
      "loss: 126.851776  [83200/100000]\n",
      "loss: 194.198242  [89600/100000]\n",
      "loss: 105.415726  [96000/100000]\n",
      "Epoch 15\n",
      "-------------------------------\n",
      "loss: 171.076447  [    0/100000]\n",
      "loss: 108.007736  [ 6400/100000]\n",
      "loss: 54.587063  [12800/100000]\n",
      "loss: 85.590683  [19200/100000]\n",
      "loss: 91.530121  [25600/100000]\n",
      "loss: 59.806458  [32000/100000]\n",
      "loss: 88.144928  [38400/100000]\n",
      "loss: 34.723122  [44800/100000]\n",
      "loss: 26.696449  [51200/100000]\n",
      "loss: 34.933971  [57600/100000]\n",
      "loss: 30.016960  [64000/100000]\n",
      "loss: 34.497379  [70400/100000]\n",
      "loss: 38.593548  [76800/100000]\n",
      "loss: 91.361588  [83200/100000]\n",
      "loss: 91.294235  [89600/100000]\n",
      "loss: 10.522534  [96000/100000]\n",
      "Epoch 16\n",
      "-------------------------------\n",
      "loss: 54.890446  [    0/100000]\n",
      "loss: 428.541565  [ 6400/100000]\n",
      "loss: 74.033272  [12800/100000]\n",
      "loss: 90.659492  [19200/100000]\n",
      "loss: 49.210377  [25600/100000]\n",
      "loss: 69.404358  [32000/100000]\n",
      "loss: 65.994942  [38400/100000]\n",
      "loss: 94.788513  [44800/100000]\n",
      "loss: 268.841858  [51200/100000]\n",
      "loss: 72.064148  [57600/100000]\n",
      "loss: 27.197037  [64000/100000]\n",
      "loss: 40.954903  [70400/100000]\n",
      "loss: 38.534290  [76800/100000]\n",
      "loss: 87.455818  [83200/100000]\n",
      "loss: 78.682304  [89600/100000]\n",
      "loss: 323.743896  [96000/100000]\n",
      "Epoch 17\n",
      "-------------------------------\n",
      "loss: 288.098755  [    0/100000]\n",
      "loss: 95.088638  [ 6400/100000]\n",
      "loss: 56.644997  [12800/100000]\n",
      "loss: 27.711468  [19200/100000]\n",
      "loss: 103.560471  [25600/100000]\n",
      "loss: 69.446495  [32000/100000]\n",
      "loss: 26.979633  [38400/100000]\n",
      "loss: 33.001755  [44800/100000]\n",
      "loss: 25.246716  [51200/100000]\n",
      "loss: 1397.480469  [57600/100000]\n",
      "loss: 159.562057  [64000/100000]\n",
      "loss: 43.234993  [70400/100000]\n",
      "loss: 68.026352  [76800/100000]\n",
      "loss: 148.020798  [83200/100000]\n",
      "loss: 291.094360  [89600/100000]\n",
      "loss: 82.511368  [96000/100000]\n",
      "Epoch 18\n",
      "-------------------------------\n",
      "loss: 39.696247  [    0/100000]\n",
      "loss: 25.452528  [ 6400/100000]\n",
      "loss: 49.196762  [12800/100000]\n",
      "loss: 70.704094  [19200/100000]\n",
      "loss: 25.909725  [25600/100000]\n",
      "loss: 260.584473  [32000/100000]\n",
      "loss: 76.082657  [38400/100000]\n",
      "loss: 143.346176  [44800/100000]\n",
      "loss: 14.782092  [51200/100000]\n",
      "loss: 17.343180  [57600/100000]\n",
      "loss: 261.476440  [64000/100000]\n",
      "loss: 74.475754  [70400/100000]\n",
      "loss: 40.730209  [76800/100000]\n",
      "loss: 35.016056  [83200/100000]\n",
      "loss: 20.007627  [89600/100000]\n",
      "loss: 16.867981  [96000/100000]\n",
      "Epoch 19\n",
      "-------------------------------\n",
      "loss: 71.227058  [    0/100000]\n",
      "loss: 109.051376  [ 6400/100000]\n",
      "loss: 304.686890  [12800/100000]\n",
      "loss: 106.843033  [19200/100000]\n",
      "loss: 47.827763  [25600/100000]\n",
      "loss: 15.054625  [32000/100000]\n",
      "loss: 77.119881  [38400/100000]\n",
      "loss: 107.714287  [44800/100000]\n",
      "loss: 65.773567  [51200/100000]\n",
      "loss: 54.932289  [57600/100000]\n",
      "loss: 33.060799  [64000/100000]\n",
      "loss: 266.921783  [70400/100000]\n",
      "loss: 107.444901  [76800/100000]\n",
      "loss: 23.237902  [83200/100000]\n",
      "loss: 66.056915  [89600/100000]\n",
      "loss: 103.571877  [96000/100000]\n",
      "Epoch 20\n",
      "-------------------------------\n",
      "loss: 24.107273  [    0/100000]\n",
      "loss: 17.360842  [ 6400/100000]\n",
      "loss: 27.576050  [12800/100000]\n",
      "loss: 26.075241  [19200/100000]\n",
      "loss: 31.434856  [25600/100000]\n",
      "loss: 229.886398  [32000/100000]\n",
      "loss: 293.628326  [38400/100000]\n",
      "loss: 82.042267  [44800/100000]\n",
      "loss: 370.463104  [51200/100000]\n",
      "loss: 37.201870  [57600/100000]\n",
      "loss: 40.517025  [64000/100000]\n",
      "loss: 28.427183  [70400/100000]\n",
      "loss: 19.688097  [76800/100000]\n",
      "loss: 12.549864  [83200/100000]\n",
      "loss: 32.635990  [89600/100000]\n",
      "loss: 33.032619  [96000/100000]\n",
      "Done!\n"
     ]
    }
   ],
   "source": [
    "for t in range(epochs):\n",
    "    print(f\"Epoch {t+1}\\n-------------------------------\")\n",
    "    train_loop(dataloader, model, loss_function, optimizer)\n",
    "print(\"Done!\")"
   ]
  },
  {
   "attachments": {},
   "cell_type": "markdown",
   "metadata": {},
   "source": [
    "## Test"
   ]
  },
  {
   "cell_type": "code",
   "execution_count": 28,
   "metadata": {},
   "outputs": [
    {
     "data": {
      "image/png": "[encoded data removed]",
      "text/plain": [
       "<Figure size 640x480 with 1 Axes>"
      ]
     },
     "metadata": {},
     "output_type": "display_data"
    }
   ],
   "source": [
    "## Test 0\n",
    "plt.scatter(t_test, x0_test, alpha=0.5)\n",
    "plt.scatter(t_test, model(torch.cat((x0_vec, v0_vec, t_test), 1).permute(2, 1, 0)).detach())\n",
    "plt.show()"
   ]
  },
  {
   "cell_type": "code",
   "execution_count": 29,
   "metadata": {},
   "outputs": [
    {
     "data": {
      "image/png": "[encoded data removed]",
      "text/plain": [
       "<Figure size 640x480 with 1 Axes>"
      ]
     },
     "metadata": {},
     "output_type": "display_data"
    }
   ],
   "source": [
    "## Test 1\n",
    "plt.scatter(t_test, x1_test, alpha=0.5)\n",
    "plt.scatter(t_test, model(torch.cat((x1_vec, v1_vec, t_test), 1).permute(2, 1, 0)).detach())\n",
    "plt.show()"
   ]
  },
  {
   "cell_type": "code",
   "execution_count": 26,
   "metadata": {},
   "outputs": [
    {
     "data": {
      "image/png": "[encoded data removed]",
      "text/plain": [
       "<Figure size 640x480 with 1 Axes>"
      ]
     },
     "metadata": {},
     "output_type": "display_data"
    }
   ],
   "source": [
    "## Test 2\n",
    "plt.scatter(t_test, x2_test, alpha=0.5)\n",
    "plt.scatter(t_test, model(torch.cat((x2_vec, v2_vec, t_test), 1).permute(2, 1, 0)).detach())\n",
    "plt.show()"
   ]
  }
 ],
 "metadata": {
  "kernelspec": {
   "display_name": "Python 3",
   "language": "python",
   "name": "python3"
  },
  "language_info": {
   "codemirror_mode": {
    "name": "ipython",
    "version": 3
   },
   "file_extension": ".py",
   "mimetype": "text/x-python",
   "name": "python",
   "nbconvert_exporter": "python",
   "pygments_lexer": "ipython3",
   "version": "3.10.8"
  },
  "orig_nbformat": 4,
  "vscode": {
   "interpreter": {
    "hash": "9b3b15e79d64212a14c381e1bc9a41101994b32312634469deb1a16fd6054240"
   }
  }
 },
 "nbformat": 4,
 "nbformat_minor": 2
}
