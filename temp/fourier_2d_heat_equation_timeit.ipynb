{
 "cells": [
  {
   "attachments": {},
   "cell_type": "markdown",
   "metadata": {},
   "source": [
    "## Fourier Neural Operator 2D"
   ]
  },
  {
   "cell_type": "code",
   "execution_count": 1,
   "metadata": {},
   "outputs": [
    {
     "name": "stderr",
     "output_type": "stream",
     "text": [
      "c:\\Users\\s1612415\\AppData\\Local\\Programs\\Python\\Python310\\lib\\site-packages\\tqdm\\auto.py:22: TqdmWarning: IProgress not found. Please update jupyter and ipywidgets. See https://ipywidgets.readthedocs.io/en/stable/user_install.html\n",
      "  from .autonotebook import tqdm as notebook_tqdm\n"
     ]
    }
   ],
   "source": [
    "## Imports \n",
    "import matplotlib.pyplot as plt \n",
    "import numpy as np \n",
    "import torch \n",
    "import torch.nn as nn\n",
    "from timeit import default_timer"
   ]
  },
  {
   "cell_type": "code",
   "execution_count": 2,
   "metadata": {},
   "outputs": [],
   "source": [
    "## Set seeds\n",
    "torch.manual_seed(0)\n",
    "np.random.seed(0)"
   ]
  },
  {
   "attachments": {},
   "cell_type": "markdown",
   "metadata": {},
   "source": [
    "## Create Data"
   ]
  },
  {
   "attachments": {},
   "cell_type": "markdown",
   "metadata": {},
   "source": [
    "### Heat Equation:\n",
    "\n",
    "\\begin{align*}\n",
    "\\frac{\\partial u}{\\partial t} &= \\alpha \\frac{\\partial^2 u}{\\partial x^2} \\\\\n",
    "u(x, 0) &= x^2 \\\\\n",
    "u(0, t) &= u(1, t) = 2 - \\exp(-t)\n",
    "\\end{align*}\n",
    "\n",
    "Solution: \n"
   ]
  },
  {
   "cell_type": "code",
   "execution_count": 3,
   "metadata": {},
   "outputs": [],
   "source": [
    "## TODO: Create Heat Equation Class"
   ]
  },
  {
   "cell_type": "code",
   "execution_count": 4,
   "metadata": {},
   "outputs": [
    {
     "data": {
      "image/png": "[encoded data removed]",
      "text/plain": [
       "<Figure size 640x480 with 1 Axes>"
      ]
     },
     "metadata": {},
     "output_type": "display_data"
    }
   ],
   "source": [
    "## Steps in x direction\n",
    "nx = 10\n",
    "## Steps in t direction\n",
    "nt = 10\n",
    "\n",
    "h = 1 / nx ## Step size in x direction\n",
    "k = 1 / nt ## Step size in t direction\n",
    "\n",
    "alpha = 0.05\n",
    "r =  alpha * k / h**2\n",
    "\n",
    "X, T = np.meshgrid(np.linspace(0, 1, nx + 1), np.linspace(0, 1, nt + 1))\n",
    "\n",
    "plt.scatter(X, T)\n",
    "plt.show()"
   ]
  },
  {
   "cell_type": "code",
   "execution_count": 5,
   "metadata": {},
   "outputs": [],
   "source": [
    "## Initial Condition\n",
    "beta = np.pi\n",
    "u0 = np.sin(beta * X[0]) \n",
    "\n",
    "## Boundary Conditions\n",
    "ux0 = 0 # u0[0] # T[:, 0]\n",
    "uxn = 0 # u0[-1] # 2 - np.exp(-T[:, -1])"
   ]
  },
  {
   "cell_type": "code",
   "execution_count": 6,
   "metadata": {},
   "outputs": [],
   "source": [
    "A = np.zeros((nx - 1, nx - 1))\n",
    "B = np.zeros((nx - 1, nx - 1))\n",
    "\n",
    "for i in range(nx - 1):\n",
    "    A[i, i] = 2 + 2 * r\n",
    "    B[i, i] = 2 - 2 * r\n",
    "\n",
    "for i in range(nx - 2):\n",
    "    A[i + 1, i] = -r\n",
    "    A[i, i + 1] = -r\n",
    "    B[i + 1, i] = r\n",
    "    B[i, i + 1] = r\n",
    "\n",
    "Ainv = np.linalg.inv(A)"
   ]
  },
  {
   "cell_type": "code",
   "execution_count": 7,
   "metadata": {},
   "outputs": [],
   "source": [
    "## Compute Solution\n",
    "u = np.zeros((nt + 1, nx + 1))\n",
    "u[0] = u0\n",
    "u[:, 0] = ux0\n",
    "u[:, -1] = uxn\n",
    "\n",
    "# b = np.zeros(nx - 1)\n",
    "for j in range(1, nt + 1):\n",
    "    # b[0] = r * u[j - 1, 0] + r * u[j, 0]\n",
    "    # b[-1] = r * u[j - 1, -1] + r * u[j, -1]\n",
    "    u[j, 1:nx] = Ainv @ ((B @ u[j - 1, 1:nx])) # + b)"
   ]
  },
  {
   "cell_type": "code",
   "execution_count": 8,
   "metadata": {},
   "outputs": [
    {
     "data": {
      "image/png": "[encoded data removed]",
      "text/plain": [
       "<Figure size 640x480 with 2 Axes>"
      ]
     },
     "metadata": {},
     "output_type": "display_data"
    }
   ],
   "source": [
    "plt.imshow(u, aspect='auto')\n",
    "plt.colorbar()\n",
    "plt.show()"
   ]
  },
  {
   "cell_type": "code",
   "execution_count": 9,
   "metadata": {},
   "outputs": [],
   "source": [
    "## Number of Samples \n",
    "n = 10000\n",
    "## Output\n",
    "data_in = []\n",
    "data_out = []\n",
    "\n",
    "## Generate Data\n",
    "for _ in range(n):\n",
    "    beta = np.random.uniform(-10, 10)\n",
    "    beta_mat = beta * np.ones((nt + 1, nx + 1))\n",
    "\n",
    "    u0 = np.sin(beta * X[0])\n",
    "\n",
    "    data_in.append([beta_mat, X, T])\n",
    "\n",
    "    ## Create Solution Matrix\n",
    "    u = np.zeros((nt + 1, nx + 1))\n",
    "    u[0] = u0\n",
    "    u[:, 0] = ux0\n",
    "    u[:, -1] = uxn\n",
    "\n",
    "    # b = np.zeros(nx - 1)\n",
    "    for j in range(1, nt + 1):\n",
    "        # b[0] = r * u[j - 1, 0] + r * u[j, 0]\n",
    "        # b[-1] = r * u[j - 1, -1] + r * u[j, -1]\n",
    "        u[j, 1:nx] = Ainv @ ((B @ u[j - 1, 1:nx])) # + b)\n",
    "\n",
    "    data_out.append(u)"
   ]
  },
  {
   "cell_type": "code",
   "execution_count": 10,
   "metadata": {},
   "outputs": [
    {
     "name": "stderr",
     "output_type": "stream",
     "text": [
      "C:\\Users\\s1612415\\AppData\\Local\\Temp\\ipykernel_11188\\974941267.py:1: UserWarning: Creating a tensor from a list of numpy.ndarrays is extremely slow. Please consider converting the list to a single numpy.ndarray with numpy.array() before converting to a tensor. (Triggered internally at ..\\torch\\csrc\\utils\\tensor_new.cpp:233.)\n",
      "  data_in = np.array(torch.tensor(data_in).float())\n"
     ]
    }
   ],
   "source": [
    "data_in = np.array(torch.tensor(data_in).float())\n",
    "data_out = np.array(torch.tensor(data_out).float().unsqueeze(1))"
   ]
  },
  {
   "cell_type": "code",
   "execution_count": 11,
   "metadata": {},
   "outputs": [],
   "source": [
    "## Data Loader\n",
    "from torch.utils.data import Dataset, DataLoader\n",
    "import pandas as pd\n",
    "\n",
    "class CustomDataset(Dataset):\n",
    "    def __init__(self, t, x):\n",
    "        self.t = t\n",
    "        self.x = x\n",
    "\n",
    "    def __len__(self):\n",
    "        return len(self.t)\n",
    "    \n",
    "    def __getitem__(self, index):\n",
    "        return self.t[index], self.x[index]\n",
    "\n",
    "data = CustomDataset(data_in, data_out)"
   ]
  },
  {
   "cell_type": "code",
   "execution_count": 12,
   "metadata": {},
   "outputs": [
    {
     "data": {
      "text/plain": [
       "array([[[0.9762701, 0.9762701, 0.9762701, 0.9762701, 0.9762701,\n",
       "         0.9762701, 0.9762701, 0.9762701, 0.9762701, 0.9762701,\n",
       "         0.9762701],\n",
       "        [0.9762701, 0.9762701, 0.9762701, 0.9762701, 0.9762701,\n",
       "         0.9762701, 0.9762701, 0.9762701, 0.9762701, 0.9762701,\n",
       "         0.9762701],\n",
       "        [0.9762701, 0.9762701, 0.9762701, 0.9762701, 0.9762701,\n",
       "         0.9762701, 0.9762701, 0.9762701, 0.9762701, 0.9762701,\n",
       "         0.9762701],\n",
       "        [0.9762701, 0.9762701, 0.9762701, 0.9762701, 0.9762701,\n",
       "         0.9762701, 0.9762701, 0.9762701, 0.9762701, 0.9762701,\n",
       "         0.9762701],\n",
       "        [0.9762701, 0.9762701, 0.9762701, 0.9762701, 0.9762701,\n",
       "         0.9762701, 0.9762701, 0.9762701, 0.9762701, 0.9762701,\n",
       "         0.9762701],\n",
       "        [0.9762701, 0.9762701, 0.9762701, 0.9762701, 0.9762701,\n",
       "         0.9762701, 0.9762701, 0.9762701, 0.9762701, 0.9762701,\n",
       "         0.9762701],\n",
       "        [0.9762701, 0.9762701, 0.9762701, 0.9762701, 0.9762701,\n",
       "         0.9762701, 0.9762701, 0.9762701, 0.9762701, 0.9762701,\n",
       "         0.9762701],\n",
       "        [0.9762701, 0.9762701, 0.9762701, 0.9762701, 0.9762701,\n",
       "         0.9762701, 0.9762701, 0.9762701, 0.9762701, 0.9762701,\n",
       "         0.9762701],\n",
       "        [0.9762701, 0.9762701, 0.9762701, 0.9762701, 0.9762701,\n",
       "         0.9762701, 0.9762701, 0.9762701, 0.9762701, 0.9762701,\n",
       "         0.9762701],\n",
       "        [0.9762701, 0.9762701, 0.9762701, 0.9762701, 0.9762701,\n",
       "         0.9762701, 0.9762701, 0.9762701, 0.9762701, 0.9762701,\n",
       "         0.9762701],\n",
       "        [0.9762701, 0.9762701, 0.9762701, 0.9762701, 0.9762701,\n",
       "         0.9762701, 0.9762701, 0.9762701, 0.9762701, 0.9762701,\n",
       "         0.9762701]],\n",
       "\n",
       "       [[0.       , 0.1      , 0.2      , 0.3      , 0.4      ,\n",
       "         0.5      , 0.6      , 0.7      , 0.8      , 0.9      ,\n",
       "         1.       ],\n",
       "        [0.       , 0.1      , 0.2      , 0.3      , 0.4      ,\n",
       "         0.5      , 0.6      , 0.7      , 0.8      , 0.9      ,\n",
       "         1.       ],\n",
       "        [0.       , 0.1      , 0.2      , 0.3      , 0.4      ,\n",
       "         0.5      , 0.6      , 0.7      , 0.8      , 0.9      ,\n",
       "         1.       ],\n",
       "        [0.       , 0.1      , 0.2      , 0.3      , 0.4      ,\n",
       "         0.5      , 0.6      , 0.7      , 0.8      , 0.9      ,\n",
       "         1.       ],\n",
       "        [0.       , 0.1      , 0.2      , 0.3      , 0.4      ,\n",
       "         0.5      , 0.6      , 0.7      , 0.8      , 0.9      ,\n",
       "         1.       ],\n",
       "        [0.       , 0.1      , 0.2      , 0.3      , 0.4      ,\n",
       "         0.5      , 0.6      , 0.7      , 0.8      , 0.9      ,\n",
       "         1.       ],\n",
       "        [0.       , 0.1      , 0.2      , 0.3      , 0.4      ,\n",
       "         0.5      , 0.6      , 0.7      , 0.8      , 0.9      ,\n",
       "         1.       ],\n",
       "        [0.       , 0.1      , 0.2      , 0.3      , 0.4      ,\n",
       "         0.5      , 0.6      , 0.7      , 0.8      , 0.9      ,\n",
       "         1.       ],\n",
       "        [0.       , 0.1      , 0.2      , 0.3      , 0.4      ,\n",
       "         0.5      , 0.6      , 0.7      , 0.8      , 0.9      ,\n",
       "         1.       ],\n",
       "        [0.       , 0.1      , 0.2      , 0.3      , 0.4      ,\n",
       "         0.5      , 0.6      , 0.7      , 0.8      , 0.9      ,\n",
       "         1.       ],\n",
       "        [0.       , 0.1      , 0.2      , 0.3      , 0.4      ,\n",
       "         0.5      , 0.6      , 0.7      , 0.8      , 0.9      ,\n",
       "         1.       ]],\n",
       "\n",
       "       [[0.       , 0.       , 0.       , 0.       , 0.       ,\n",
       "         0.       , 0.       , 0.       , 0.       , 0.       ,\n",
       "         0.       ],\n",
       "        [0.1      , 0.1      , 0.1      , 0.1      , 0.1      ,\n",
       "         0.1      , 0.1      , 0.1      , 0.1      , 0.1      ,\n",
       "         0.1      ],\n",
       "        [0.2      , 0.2      , 0.2      , 0.2      , 0.2      ,\n",
       "         0.2      , 0.2      , 0.2      , 0.2      , 0.2      ,\n",
       "         0.2      ],\n",
       "        [0.3      , 0.3      , 0.3      , 0.3      , 0.3      ,\n",
       "         0.3      , 0.3      , 0.3      , 0.3      , 0.3      ,\n",
       "         0.3      ],\n",
       "        [0.4      , 0.4      , 0.4      , 0.4      , 0.4      ,\n",
       "         0.4      , 0.4      , 0.4      , 0.4      , 0.4      ,\n",
       "         0.4      ],\n",
       "        [0.5      , 0.5      , 0.5      , 0.5      , 0.5      ,\n",
       "         0.5      , 0.5      , 0.5      , 0.5      , 0.5      ,\n",
       "         0.5      ],\n",
       "        [0.6      , 0.6      , 0.6      , 0.6      , 0.6      ,\n",
       "         0.6      , 0.6      , 0.6      , 0.6      , 0.6      ,\n",
       "         0.6      ],\n",
       "        [0.7      , 0.7      , 0.7      , 0.7      , 0.7      ,\n",
       "         0.7      , 0.7      , 0.7      , 0.7      , 0.7      ,\n",
       "         0.7      ],\n",
       "        [0.8      , 0.8      , 0.8      , 0.8      , 0.8      ,\n",
       "         0.8      , 0.8      , 0.8      , 0.8      , 0.8      ,\n",
       "         0.8      ],\n",
       "        [0.9      , 0.9      , 0.9      , 0.9      , 0.9      ,\n",
       "         0.9      , 0.9      , 0.9      , 0.9      , 0.9      ,\n",
       "         0.9      ],\n",
       "        [1.       , 1.       , 1.       , 1.       , 1.       ,\n",
       "         1.       , 1.       , 1.       , 1.       , 1.       ,\n",
       "         1.       ]]], dtype=float32)"
      ]
     },
     "execution_count": 12,
     "metadata": {},
     "output_type": "execute_result"
    }
   ],
   "source": [
    "data[0][0]"
   ]
  },
  {
   "cell_type": "code",
   "execution_count": 13,
   "metadata": {},
   "outputs": [
    {
     "data": {
      "text/plain": [
       "(3, 11, 11)"
      ]
     },
     "execution_count": 13,
     "metadata": {},
     "output_type": "execute_result"
    }
   ],
   "source": [
    "data[0][0].shape"
   ]
  },
  {
   "cell_type": "code",
   "execution_count": 14,
   "metadata": {},
   "outputs": [],
   "source": [
    "dataloader = DataLoader(data, batch_size=16, shuffle=True)"
   ]
  },
  {
   "attachments": {},
   "cell_type": "markdown",
   "metadata": {},
   "source": [
    "## Build Network"
   ]
  },
  {
   "cell_type": "code",
   "execution_count": 15,
   "metadata": {},
   "outputs": [
    {
     "name": "stdout",
     "output_type": "stream",
     "text": [
      "Using cpu device.\n"
     ]
    }
   ],
   "source": [
    "## Get Device for Training\n",
    "device = 'cuda' if torch.cuda.is_available() else 'cpu'\n",
    "print(f'Using {device} device.')"
   ]
  },
  {
   "cell_type": "code",
   "execution_count": 16,
   "metadata": {},
   "outputs": [],
   "source": [
    "## Fourier Integral Kernel 2D\n",
    "class FourierIntegralKernel2D(nn.Module):\n",
    "    def __init__(self, in_channels: int, out_channels: int, modes1: int, modes2: int):\n",
    "        super(FourierIntegralKernel2D, self).__init__()\n",
    "        '''\n",
    "        '''\n",
    "        self.in_channels = in_channels\n",
    "        self.out_channels = out_channels \n",
    "        self.modes1 = modes1 \n",
    "        self.modes2 = modes2\n",
    "        ## Set (random) weights for the linear transform\n",
    "        weights1 = torch.rand(self.modes1, self.modes2, self.out_channels, self.in_channels, dtype=torch.cfloat) \n",
    "        self.weights1 = nn.Parameter(weights1 / (self.in_channels * self.out_channels)) ## Optional: Scale weights\n",
    "        weights2 = torch.rand(self.modes1, self.modes2, self.out_channels, self.in_channels, dtype=torch.cfloat) \n",
    "        self.weights2 = nn.Parameter(weights2 / (self.in_channels * self.out_channels))\n",
    "\n",
    "    def forward(self, v: torch.Tensor) -> torch.Tensor:\n",
    "        '''\n",
    "        FFT -> Linear Transform -> Inverse FFT\n",
    "        '''\n",
    "        ## FFT\n",
    "        # print(f'v: {v.shape}')\n",
    "        v_rfft = torch.fft.rfft2(v)\n",
    "        # print(f'v_rfft: {v_rfft.shape}')\n",
    "\n",
    "        ## Linear Transform \n",
    "        lv_rfft = torch.zeros(v_rfft.shape, dtype=torch.cfloat)\n",
    "        # lv_rfft[:, :, :self.modes] = torch.einsum('koi, bki -> bko', self.weights, v_rfft[:, :, :self.modes].permute(0, 2, 1)).permute(0, 2, 1) ## TODO: Should I have 5 dimensions here?\n",
    "        lv_rfft[:, :, :self.modes1, :self.modes2] = torch.einsum('kloi, bkli -> bklo', self.weights1, v_rfft[:, :, :self.modes1, :self.modes2].permute(0, 2, 3, 1)).permute(0, 3, 1, 2)\n",
    "        # print(f'lv_rfft: {lv_rfft[0][0][:10, :10].shape}')\n",
    "        # print(f'lv_rfft: {lv_rfft[0][0][:10, :10]}')    \n",
    "        lv_rfft[:, :, -self.modes1:, :self.modes2] = torch.einsum('kloi, bkli -> bklo', self.weights2, v_rfft[:, :, -self.modes1:, :self.modes2].permute(0, 2, 3, 1)).permute(0, 3, 1, 2)\n",
    "\n",
    "        ## Inverse FFT\n",
    "        v2 = torch.fft.irfft2(lv_rfft, s=(v.shape[-2], v.shape[-1]))\n",
    "        # print(f'v2: {v2.shape}')\n",
    "        return v2\n",
    "        "
   ]
  },
  {
   "cell_type": "code",
   "execution_count": 17,
   "metadata": {},
   "outputs": [],
   "source": [
    "## Fourier Network Operator 2D\n",
    "class FourierNetworkOperator2D(nn.Module):\n",
    "    def __init__(self, da: int, du: int, width: int, modes1: int, modes2: int):\n",
    "        super(FourierNetworkOperator2D, self).__init__()\n",
    "        '''\n",
    "        '''\n",
    "        self.width = width\n",
    "        self.modes1 = modes1\n",
    "        self.modes2 = modes2\n",
    "\n",
    "        ## P: Lifts the lower dimensional function to higher dimensional space\n",
    "        self.P = nn.Conv2d(da, self.width, 1) ## TODO: Change da\n",
    "\n",
    "        ## K: Fourier integral kernel operator\n",
    "        self.k0 = FourierIntegralKernel2D(self.width, self.width, self.modes1, self.modes2)\n",
    "        self.k1 = FourierIntegralKernel2D(self.width, self.width, self.modes1, self.modes2)\n",
    "        self.k2 = FourierIntegralKernel2D(self.width, self.width, self.modes1, self.modes2)\n",
    "        self.k3 = FourierIntegralKernel2D(self.width, self.width, self.modes1, self.modes2)\n",
    "        # self.k4 = FourierIntegralKernel2D(self.width, self.width, self.modes1, self.modes2)\n",
    "        # self.k5 = FourierIntegralKernel2D(self.width, self.width, self.modes1, self.modes2)\n",
    "        # self.k6 = FourierIntegralKernel2D(self.width, self.width, self.modes1, self.modes2)\n",
    "        # self.k7 = FourierIntegralKernel2D(self.width, self.width, self.modes1, self.modes2)\n",
    "        # self.k8 = FourierIntegralKernel2D(self.width, self.width, self.modes1, self.modes2)\n",
    "        # self.k9 = FourierIntegralKernel2D(self.width, self.width, self.modes1, self.modes2)\n",
    "\n",
    "        ## W: Pointwise linear operator\n",
    "        self.w0 = nn.Conv2d(self.width, self.width, 1)\n",
    "        self.w1 = nn.Conv2d(self.width, self.width, 1)\n",
    "        self.w2 = nn.Conv2d(self.width, self.width, 1)\n",
    "        self.w3 = nn.Conv2d(self.width, self.width, 1)\n",
    "        # self.w4 = nn.Conv2d(self.width, self.width, 1)\n",
    "        # self.w5 = nn.Conv2d(self.width, self.width, 1)\n",
    "        # self.w6 = nn.Conv2d(self.width, self.width, 1)\n",
    "        # self.w7 = nn.Conv2d(self.width, self.width, 1)\n",
    "        # self.w8 = nn.Conv2d(self.width, self.width, 1)\n",
    "        # self.w9 = nn.Conv2d(self.width, self.width, 1)\n",
    "\n",
    "        ## Q: Projects the higher dimensional function to lower dimensional space\n",
    "        self.Q = nn.Conv2d(self.width, du, 1) ## TODO: Change du\n",
    "\n",
    "    def forward(self, x: torch.Tensor) -> torch.Tensor:\n",
    "        '''\n",
    "        '''\n",
    "        ## P\n",
    "        x = self.P(x)\n",
    "\n",
    "        ## Fourier Layer #0\n",
    "        ## K\n",
    "        x1 = self.k0(x)\n",
    "        ## W\n",
    "        x2 = self.w0(x)\n",
    "        ## Sum\n",
    "        x = x1 + x2\n",
    "        ## Gelu\n",
    "        x = nn.functional.gelu(x)\n",
    "        # x = nn.functional.gelu(x1)\n",
    "        # x = nn.functional.gelu(x2)\n",
    "\n",
    "        ## Fourier Layer #1\n",
    "        ## K\n",
    "        x1 = self.k1(x)\n",
    "        ## W\n",
    "        x2 = self.w1(x)\n",
    "        ## Sum \n",
    "        x = x1 + x2\n",
    "        ## Gelu\n",
    "        x = nn.functional.gelu(x)\n",
    "        # x = nn.functional.gelu(x1)\n",
    "        # x = nn.functional.gelu(x2)\n",
    "\n",
    "        ## Fourier Layer #2\n",
    "        ## K\n",
    "        x1 = self.k2(x)\n",
    "        ## W\n",
    "        x2 = self.w2(x)\n",
    "        ## Sum\n",
    "        x = x1 + x2\n",
    "        ## Gelu\n",
    "        x = nn.functional.gelu(x)\n",
    "        # x = nn.functional.gelu(x1)\n",
    "        # x = nn.functional.gelu(x2)\n",
    "\n",
    "        ## Fourier Layer #3\n",
    "        ## K\n",
    "        x1 = self.k3(x)\n",
    "        ## W\n",
    "        x2 = self.w3(x)\n",
    "        ## Sum\n",
    "        x = x1 + x2\n",
    "        ## Gelu\n",
    "        x = nn.functional.gelu(x)\n",
    "        # x = nn.functional.gelu(x1)\n",
    "        # x = nn.functional.gelu(x2)\n",
    "\n",
    "        # ## Fourier Layer #4\n",
    "        # ## K\n",
    "        # x1 = self.k4(x)\n",
    "        # ## W\n",
    "        # x2 = self.w4(x)\n",
    "        # ## Sum\n",
    "        # x = x1 + x2\n",
    "        # ## Gelu\n",
    "        # x = nn.functional.gelu(x)\n",
    "        # # x = nn.functional.gelu(x1)\n",
    "        # # x = nn.functional.gelu(x2)\n",
    "\n",
    "        # ## Fourier Layer #5\n",
    "        # ## K\n",
    "        # x1 = self.k5(x)\n",
    "        # ## W\n",
    "        # x2 = self.w5(x)\n",
    "        # ## Sum\n",
    "        # x = x1 + x2\n",
    "        # ## Gelu\n",
    "        # x = nn.functional.gelu(x)\n",
    "        # # x = nn.functional.gelu(x1)\n",
    "        # # x = nn.functional.gelu(x2)\n",
    "\n",
    "        # ## Fourier Layer #6\n",
    "        # ## K\n",
    "        # x1 = self.k6(x)\n",
    "        # ## W\n",
    "        # x2 = self.w6(x)\n",
    "        # ## Sum\n",
    "        # x = x1 + x2\n",
    "        # ## Gelu\n",
    "        # x = nn.functional.gelu(x)\n",
    "        # # x = nn.functional.gelu(x1)\n",
    "        # # x = nn.functional.gelu(x2)\n",
    "\n",
    "        # ## Fourier Layer #7\n",
    "        # ## K\n",
    "        # x1 = self.k7(x)\n",
    "        # ## W\n",
    "        # x2 = self.w7(x)\n",
    "        # ## Sum\n",
    "        # x = x1 + x2\n",
    "        # ## Gelu\n",
    "        # x = nn.functional.gelu(x)\n",
    "        # # x = nn.functional.gelu(x1)\n",
    "        # # x = nn.functional.gelu(x2)\n",
    "\n",
    "        # ## Fourier Layer #8\n",
    "        # ## K\n",
    "        # x1 = self.k8(x)\n",
    "        # ## W\n",
    "        # x2 = self.w8(x)\n",
    "        # ## Sum\n",
    "        # x = x1 + x2\n",
    "        # ## Gelu\n",
    "        # x = nn.functional.gelu(x)\n",
    "        # # x = nn.functional.gelu(x1)\n",
    "        # # x = nn.functional.gelu(x2)\n",
    "\n",
    "        # ## Fourier Layer #9\n",
    "        # ## K\n",
    "        # x1 = self.k9(x)\n",
    "        # ## W\n",
    "        # x2 = self.w9(x)\n",
    "        # ## Sum\n",
    "        # x = x1 + x2\n",
    "        # ## Gelu\n",
    "        # x = nn.functional.gelu(x)\n",
    "        # # x = nn.functional.gelu(x1)\n",
    "        # # x = nn.functional.gelu(x2)\n",
    "\n",
    "        ## Q\n",
    "        x = self.Q(x)\n",
    "        return x\n"
   ]
  },
  {
   "cell_type": "code",
   "execution_count": 18,
   "metadata": {},
   "outputs": [],
   "source": [
    "# import operator\n",
    "# from functools import reduce\n",
    "\n",
    "# def count_parameters(model):\n",
    "#     c = 0\n",
    "#     for p in list(model.parameters()):\n",
    "#         c += reduce(operator.mul, list(p.size() + (2, ) if p.is_complex() else p.size()))\n",
    "#     return c\n",
    "\n",
    "# model = FourierNetworkOperator2D(3, 1, width=64, modes1=4, modes2=4)\n",
    "# print(f'Number of parameters: {count_parameters(model)}')"
   ]
  },
  {
   "cell_type": "code",
   "execution_count": 19,
   "metadata": {},
   "outputs": [
    {
     "name": "stdout",
     "output_type": "stream",
     "text": [
      "P.weight: 192\n",
      "P.bias: 64\n",
      "k0.weights1: 65536\n",
      "k0.weights2: 65536\n",
      "k1.weights1: 65536\n",
      "k1.weights2: 65536\n",
      "k2.weights1: 65536\n",
      "k2.weights2: 65536\n",
      "k3.weights1: 65536\n",
      "k3.weights2: 65536\n",
      "w0.weight: 4096\n",
      "w0.bias: 64\n",
      "w1.weight: 4096\n",
      "w1.bias: 64\n",
      "w2.weight: 4096\n",
      "w2.bias: 64\n",
      "w3.weight: 4096\n",
      "w3.bias: 64\n",
      "Q.weight: 64\n",
      "Q.bias: 1\n",
      "Total Trainable Params: 541249\n"
     ]
    }
   ],
   "source": [
    "def count_parameters(model):\n",
    "    total_params = 0\n",
    "    for name, parameter in model.named_parameters():\n",
    "        if not parameter.requires_grad: continue\n",
    "        params = parameter.numel()\n",
    "        print(f'{name}: {params}')\n",
    "        total_params+=params\n",
    "    print(f\"Total Trainable Params: {total_params}\")\n",
    "    return total_params\n",
    "    \n",
    "model = FourierNetworkOperator2D(3, 1, width=64, modes1=4, modes2=4)\n",
    "num_parameters = count_parameters(model)"
   ]
  },
  {
   "attachments": {},
   "cell_type": "markdown",
   "metadata": {},
   "source": [
    "## Train"
   ]
  },
  {
   "cell_type": "code",
   "execution_count": 20,
   "metadata": {},
   "outputs": [],
   "source": [
    "## Model Parameters\n",
    "learning_rate = 1e-3\n",
    "epochs = 5"
   ]
  },
  {
   "cell_type": "code",
   "execution_count": 21,
   "metadata": {},
   "outputs": [],
   "source": [
    "## Loss Function\n",
    "loss_function = nn.MSELoss()"
   ]
  },
  {
   "cell_type": "code",
   "execution_count": 22,
   "metadata": {},
   "outputs": [],
   "source": [
    "## Optimizer \n",
    "optimizer = torch.optim.Adam(model.parameters(), lr=learning_rate)"
   ]
  },
  {
   "cell_type": "code",
   "execution_count": 23,
   "metadata": {},
   "outputs": [
    {
     "data": {
      "image/png": "[encoded data removed]",
      "text/plain": [
       "<Figure size 640x480 with 2 Axes>"
      ]
     },
     "metadata": {},
     "output_type": "display_data"
    }
   ],
   "source": [
    "## Test 0\n",
    "## Initial Condition\n",
    "betat0 = np.random.uniform(-10, 10)\n",
    "beta_matt0 = betat0 * torch.from_numpy(np.ones((nt + 1, nx + 1))).float().unsqueeze(0).unsqueeze(0)\n",
    "\n",
    "## Compute Solution\n",
    "ut0 = np.zeros((nt + 1, nx + 1))\n",
    "ut0[0] = np.sin(betat0 * X[0]) \n",
    "ut0[:, 0] = ux0\n",
    "ut0[:, -1] = uxn\n",
    "\n",
    "# b = np.zeros(nx - 1)\n",
    "for j in range(1, nt + 1):\n",
    "    # b[0] = r * u[j - 1, 0] + r * u[j, 0]\n",
    "    # b[-1] = r * u[j - 1, -1] + r * u[j, -1]\n",
    "    ut0[j, 1:nx] = Ainv @ ((B @ ut0[j - 1, 1:nx])) # + b)\n",
    "\n",
    "upredt0 = model(torch.cat((beta_matt0, torch.from_numpy(X).float().unsqueeze(0).unsqueeze(0), torch.from_numpy(T).float().unsqueeze(0).unsqueeze(0)), 1))\n",
    "# print(upredt0.shape)\n",
    "\n",
    "plt.subplot(121)\n",
    "plt.imshow(ut0, aspect='auto')\n",
    "plt.subplot(122)\n",
    "plt.imshow(upredt0.detach()[0][0], aspect='auto')\n",
    "plt.show()"
   ]
  },
  {
   "cell_type": "code",
   "execution_count": 24,
   "metadata": {},
   "outputs": [
    {
     "data": {
      "image/png": "[encoded data removed]",
      "text/plain": [
       "<Figure size 640x480 with 2 Axes>"
      ]
     },
     "metadata": {},
     "output_type": "display_data"
    }
   ],
   "source": [
    "## Test 1\n",
    "## Initial Condition\n",
    "betat1 = np.random.uniform(-10, 10)\n",
    "beta_matt1 = betat1 * torch.from_numpy(np.ones((nt + 1, nx + 1))).float().unsqueeze(0).unsqueeze(0)\n",
    "\n",
    "## Compute Solution\n",
    "ut1 = np.zeros((nt + 1, nx + 1))\n",
    "ut1[0] = np.sin(betat1 * X[0]) \n",
    "ut1[:, 0] = ux0\n",
    "ut1[:, -1] = uxn\n",
    "\n",
    "# b = np.zeros(nx - 1)\n",
    "for j in range(1, nt + 1):\n",
    "    # b[0] = r * u[j - 1, 0] + r * u[j, 0]\n",
    "    # b[-1] = r * u[j - 1, -1] + r * u[j, -1]\n",
    "    ut1[j, 1:nx] = Ainv @ ((B @ ut1[j - 1, 1:nx])) # + b)\n",
    "\n",
    "upredt1 = model(torch.cat((beta_matt1, torch.from_numpy(X).float().unsqueeze(0).unsqueeze(0), torch.from_numpy(T).float().unsqueeze(0).unsqueeze(0)), 1))\n",
    "\n",
    "plt.subplot(121)\n",
    "plt.imshow(ut1, aspect='auto')\n",
    "plt.subplot(122)\n",
    "plt.imshow(upredt1.detach()[0][0], aspect='auto')\n",
    "plt.show()"
   ]
  },
  {
   "cell_type": "code",
   "execution_count": 25,
   "metadata": {},
   "outputs": [
    {
     "data": {
      "image/png": "[encoded data removed]",
      "text/plain": [
       "<Figure size 640x480 with 2 Axes>"
      ]
     },
     "metadata": {},
     "output_type": "display_data"
    }
   ],
   "source": [
    "## Test 2\n",
    "## Initial Condition\n",
    "betat2 = np.random.uniform(-10, 10)\n",
    "beta_matt2 = betat2 * torch.from_numpy(np.ones((nt + 1, nx + 1))).float().unsqueeze(0).unsqueeze(0)\n",
    "\n",
    "## Compute Solution\n",
    "ut2 = np.zeros((nt + 1, nx + 1))\n",
    "ut2[0] = np.sin(betat2 * X[0]) \n",
    "ut2[:, 0] = ux0\n",
    "ut2[:, -1] = uxn\n",
    "\n",
    "# b = np.zeros(nx - 1)\n",
    "for j in range(1, nt + 1):\n",
    "    # b[0] = r * u[j - 1, 0] + r * u[j, 0]\n",
    "    # b[-1] = r * u[j - 1, -1] + r * u[j, -1]\n",
    "    ut2[j, 1:nx] = Ainv @ ((B @ ut2[j - 1, 1:nx])) # + b)\n",
    "\n",
    "upredt2 = model(torch.cat((beta_matt2, torch.from_numpy(X).float().unsqueeze(0).unsqueeze(0), torch.from_numpy(T).float().unsqueeze(0).unsqueeze(0)), 1))\n",
    "\n",
    "plt.subplot(121)\n",
    "plt.imshow(ut2, aspect='auto')\n",
    "plt.subplot(122)\n",
    "plt.imshow(upredt2.detach()[0][0], aspect='auto')\n",
    "plt.show()"
   ]
  },
  {
   "cell_type": "code",
   "execution_count": 26,
   "metadata": {},
   "outputs": [],
   "source": [
    "## Training Loop\n",
    "def train_loop(dataloader, model, loss_function, optimizer):\n",
    "    size = len(dataloader.dataset)\n",
    "    for batch, (t, x) in enumerate(dataloader):\n",
    "        # Compute prediction and loss\n",
    "        pred = model(t)\n",
    "        loss = loss_function(pred, x)\n",
    "\n",
    "        # Backpropagation\n",
    "        optimizer.zero_grad()\n",
    "        loss.backward()\n",
    "        optimizer.step()\n",
    "\n",
    "        if batch % 100 == 0:\n",
    "            loss, current = loss.item(), batch * len(t)\n",
    "            print(f\"loss: {loss:>7f}  [{current:>5d}/{size:>5d}]\")"
   ]
  },
  {
   "cell_type": "code",
   "execution_count": 27,
   "metadata": {},
   "outputs": [
    {
     "name": "stdout",
     "output_type": "stream",
     "text": [
      "Epoch 1\n",
      "-------------------------------\n",
      "loss: 0.137779  [    0/10000]\n",
      "loss: 0.001859  [ 1600/10000]\n",
      "loss: 0.000505  [ 3200/10000]\n",
      "loss: 0.000470  [ 4800/10000]\n",
      "loss: 0.000546  [ 6400/10000]\n",
      "loss: 0.000184  [ 8000/10000]\n",
      "loss: 0.000315  [ 9600/10000]\n",
      "Epoch 2\n",
      "-------------------------------\n",
      "loss: 0.000079  [    0/10000]\n",
      "loss: 0.000140  [ 1600/10000]\n",
      "loss: 0.003789  [ 3200/10000]\n",
      "loss: 0.000138  [ 4800/10000]\n",
      "loss: 0.000061  [ 6400/10000]\n",
      "loss: 0.000038  [ 8000/10000]\n",
      "loss: 0.000121  [ 9600/10000]\n",
      "Epoch 3\n",
      "-------------------------------\n",
      "loss: 0.000162  [    0/10000]\n",
      "loss: 0.000064  [ 1600/10000]\n",
      "loss: 0.000030  [ 3200/10000]\n",
      "loss: 0.000071  [ 4800/10000]\n",
      "loss: 0.000030  [ 6400/10000]\n",
      "loss: 0.000238  [ 8000/10000]\n",
      "loss: 0.000132  [ 9600/10000]\n",
      "Epoch 4\n",
      "-------------------------------\n",
      "loss: 0.000072  [    0/10000]\n",
      "loss: 0.000413  [ 1600/10000]\n",
      "loss: 0.000240  [ 3200/10000]\n",
      "loss: 0.000026  [ 4800/10000]\n",
      "loss: 0.000010  [ 6400/10000]\n",
      "loss: 0.000006  [ 8000/10000]\n",
      "loss: 0.000033  [ 9600/10000]\n",
      "Epoch 5\n",
      "-------------------------------\n",
      "loss: 0.000017  [    0/10000]\n",
      "loss: 0.000020  [ 1600/10000]\n",
      "loss: 0.000143  [ 3200/10000]\n",
      "loss: 0.000051  [ 4800/10000]\n",
      "loss: 0.000027  [ 6400/10000]\n",
      "loss: 0.000014  [ 8000/10000]\n",
      "loss: 0.000077  [ 9600/10000]\n",
      "Done!\n"
     ]
    }
   ],
   "source": [
    "for t in range(epochs):\n",
    "    print(f\"Epoch {t+1}\\n-------------------------------\")\n",
    "    train_loop(dataloader, model, loss_function, optimizer)\n",
    "print(\"Done!\")"
   ]
  },
  {
   "attachments": {},
   "cell_type": "markdown",
   "metadata": {},
   "source": [
    "## Test"
   ]
  },
  {
   "cell_type": "code",
   "execution_count": 28,
   "metadata": {},
   "outputs": [
    {
     "data": {
      "image/png": "[encoded data removed]",
      "text/plain": [
       "<Figure size 640x480 with 2 Axes>"
      ]
     },
     "metadata": {},
     "output_type": "display_data"
    }
   ],
   "source": [
    "## Test 0\n",
    "upredt0 = model(torch.cat((beta_matt0, torch.from_numpy(X).float().unsqueeze(0).unsqueeze(0), torch.from_numpy(T).float().unsqueeze(0).unsqueeze(0)), 1))\n",
    "\n",
    "plt.subplot(121)\n",
    "plt.imshow(ut0, aspect='auto')\n",
    "plt.subplot(122)\n",
    "plt.imshow(upredt0.detach()[0][0], aspect='auto')\n",
    "plt.show()"
   ]
  },
  {
   "cell_type": "code",
   "execution_count": 29,
   "metadata": {},
   "outputs": [
    {
     "data": {
      "image/png": "[encoded data removed]",
      "text/plain": [
       "<Figure size 640x480 with 2 Axes>"
      ]
     },
     "metadata": {},
     "output_type": "display_data"
    }
   ],
   "source": [
    "## Test 1\n",
    "upredt1 = model(torch.cat((beta_matt1, torch.from_numpy(X).float().unsqueeze(0).unsqueeze(0), torch.from_numpy(T).float().unsqueeze(0).unsqueeze(0)), 1))\n",
    "\n",
    "plt.subplot(121)\n",
    "plt.imshow(ut1, aspect='auto')\n",
    "plt.subplot(122)\n",
    "plt.imshow(upredt1.detach()[0][0], aspect='auto')\n",
    "plt.show()"
   ]
  },
  {
   "cell_type": "code",
   "execution_count": 30,
   "metadata": {},
   "outputs": [
    {
     "data": {
      "image/png": "[encoded data removed]",
      "text/plain": [
       "<Figure size 640x480 with 2 Axes>"
      ]
     },
     "metadata": {},
     "output_type": "display_data"
    }
   ],
   "source": [
    "## Test 2\n",
    "upredt2 = model(torch.cat((beta_matt2, torch.from_numpy(X).float().unsqueeze(0).unsqueeze(0), torch.from_numpy(T).float().unsqueeze(0).unsqueeze(0)), 1))\n",
    "\n",
    "plt.subplot(121)\n",
    "plt.imshow(ut2, aspect='auto')\n",
    "plt.subplot(122)\n",
    "plt.imshow(upredt2.detach()[0][0], aspect='auto')\n",
    "plt.show()"
   ]
  },
  {
   "attachments": {},
   "cell_type": "markdown",
   "metadata": {},
   "source": [
    "### Predict at Higher Resolution"
   ]
  },
  {
   "cell_type": "code",
   "execution_count": null,
   "metadata": {},
   "outputs": [],
   "source": []
  },
  {
   "attachments": {},
   "cell_type": "markdown",
   "metadata": {},
   "source": [
    "### What does the Fourier Layer do?"
   ]
  },
  {
   "cell_type": "code",
   "execution_count": 36,
   "metadata": {},
   "outputs": [
    {
     "data": {
      "text/plain": [
       "<torch.utils.hooks.RemovableHandle at 0x23ef85fd660>"
      ]
     },
     "execution_count": 36,
     "metadata": {},
     "output_type": "execute_result"
    }
   ],
   "source": [
    "activation = {}\n",
    "def get_activation(name):\n",
    "    def hook(model, input, output):\n",
    "        activation[name] = output.detach()\n",
    "    return hook\n",
    "\n",
    "model.k0.register_forward_hook(get_activation('k0'))\n",
    "model.w0.register_forward_hook(get_activation('w0'))\n",
    "model.k1.register_forward_hook(get_activation('k1'))\n",
    "model.w1.register_forward_hook(get_activation('w1'))\n",
    "model.k2.register_forward_hook(get_activation('k2'))\n",
    "model.w2.register_forward_hook(get_activation('w2'))\n",
    "model.k3.register_forward_hook(get_activation('k3'))\n",
    "model.w3.register_forward_hook(get_activation('w3'))"
   ]
  },
  {
   "cell_type": "code",
   "execution_count": 40,
   "metadata": {},
   "outputs": [
    {
     "data": {
      "image/png": "[encoded data removed]",
      "text/plain": [
       "<Figure size 640x480 with 2 Axes>"
      ]
     },
     "metadata": {},
     "output_type": "display_data"
    }
   ],
   "source": [
    "upredt0 = model(torch.cat((beta_matt0, torch.from_numpy(X).float().unsqueeze(0).unsqueeze(0), torch.from_numpy(T).float().unsqueeze(0).unsqueeze(0)), 1))\n",
    "# print(activation['k0'].shape)\n",
    "\n",
    "plt.subplot(121)\n",
    "plt.imshow(activation['k0'][0][0], aspect='auto')\n",
    "plt.subplot(122)\n",
    "plt.imshow(activation['w0'][0][0], aspect='auto')\n",
    "plt.show()"
   ]
  },
  {
   "cell_type": "code",
   "execution_count": 41,
   "metadata": {},
   "outputs": [
    {
     "data": {
      "image/png": "[encoded data removed]",
      "text/plain": [
       "<Figure size 640x480 with 2 Axes>"
      ]
     },
     "metadata": {},
     "output_type": "display_data"
    }
   ],
   "source": [
    "plt.subplot(121)\n",
    "plt.imshow(activation['k1'][0][0], aspect='auto')\n",
    "plt.subplot(122)\n",
    "plt.imshow(activation['w1'][0][0], aspect='auto')\n",
    "plt.show()"
   ]
  },
  {
   "cell_type": "code",
   "execution_count": 42,
   "metadata": {},
   "outputs": [
    {
     "data": {
      "image/png": "[encoded data removed]",
      "text/plain": [
       "<Figure size 640x480 with 2 Axes>"
      ]
     },
     "metadata": {},
     "output_type": "display_data"
    }
   ],
   "source": [
    "plt.subplot(121)\n",
    "plt.imshow(activation['k2'][0][0], aspect='auto')\n",
    "plt.subplot(122)\n",
    "plt.imshow(activation['w2'][0][0], aspect='auto')\n",
    "plt.show()"
   ]
  },
  {
   "cell_type": "code",
   "execution_count": 43,
   "metadata": {},
   "outputs": [
    {
     "data": {
      "image/png": "[encoded data removed]",
      "text/plain": [
       "<Figure size 640x480 with 2 Axes>"
      ]
     },
     "metadata": {},
     "output_type": "display_data"
    }
   ],
   "source": [
    "plt.subplot(121)\n",
    "plt.imshow(activation['k3'][0][0], aspect='auto')\n",
    "plt.subplot(122)\n",
    "plt.imshow(activation['w3'][0][0], aspect='auto')\n",
    "plt.show()"
   ]
  },
  {
   "cell_type": "code",
   "execution_count": null,
   "metadata": {},
   "outputs": [],
   "source": []
  }
 ],
 "metadata": {
  "kernelspec": {
   "display_name": "Python 3",
   "language": "python",
   "name": "python3"
  },
  "language_info": {
   "codemirror_mode": {
    "name": "ipython",
    "version": 3
   },
   "file_extension": ".py",
   "mimetype": "text/x-python",
   "name": "python",
   "nbconvert_exporter": "python",
   "pygments_lexer": "ipython3",
   "version": "3.10.8"
  },
  "orig_nbformat": 4,
  "vscode": {
   "interpreter": {
    "hash": "9b3b15e79d64212a14c381e1bc9a41101994b32312634469deb1a16fd6054240"
   }
  }
 },
 "nbformat": 4,
 "nbformat_minor": 2
}
