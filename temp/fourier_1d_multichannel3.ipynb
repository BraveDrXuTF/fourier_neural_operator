{
 "cells": [
  {
   "attachments": {},
   "cell_type": "markdown",
   "metadata": {},
   "source": [
    "## Fourier Neural Operator 1D"
   ]
  },
  {
   "cell_type": "code",
   "execution_count": 1,
   "metadata": {},
   "outputs": [
    {
     "name": "stderr",
     "output_type": "stream",
     "text": [
      "c:\\Users\\Harris\\AppData\\Local\\Programs\\Python\\Python38\\lib\\site-packages\\tqdm\\auto.py:22: TqdmWarning: IProgress not found. Please update jupyter and ipywidgets. See https://ipywidgets.readthedocs.io/en/stable/user_install.html\n",
      "  from .autonotebook import tqdm as notebook_tqdm\n"
     ]
    }
   ],
   "source": [
    "## Imports \n",
    "import matplotlib.pyplot as plt \n",
    "import numpy as np \n",
    "import torch \n",
    "import torch.nn as nn\n",
    "from timeit import default_timer"
   ]
  },
  {
   "cell_type": "code",
   "execution_count": 2,
   "metadata": {},
   "outputs": [],
   "source": [
    "## Set seeds\n",
    "torch.manual_seed(0)\n",
    "np.random.seed(0)"
   ]
  },
  {
   "attachments": {},
   "cell_type": "markdown",
   "metadata": {},
   "source": [
    "## Create Data"
   ]
  },
  {
   "attachments": {},
   "cell_type": "markdown",
   "metadata": {},
   "source": [
    "### Ordinary Differential Equation:\n",
    "\n",
    "\\begin{align*}\n",
    "m\\frac{d^2x}{dt^2} = - kx\n",
    "\\end{align*}\n",
    "\n",
    "Solution: \n",
    "$$x(t) = x_0 \\cos{\\left(\\sqrt{\\frac{k}{m}}t\\right)} + \\frac{v_0}{\\sqrt{\\frac{k}{m}}}\\sin{\\left(\\sqrt{\\frac{k}{m}}t\\right)}$$"
   ]
  },
  {
   "cell_type": "code",
   "execution_count": 3,
   "metadata": {},
   "outputs": [],
   "source": [
    "## TODO: Create Simple Harmonic Oscillator Class"
   ]
  },
  {
   "cell_type": "code",
   "execution_count": 4,
   "metadata": {},
   "outputs": [],
   "source": [
    "## Simple Harmonic Oscillator\n",
    "def simple_harmonic_oscillator(k: int, m: int, x0: int, v0: int, t: np.array) -> np.array:\n",
    "    x = x0 * np.cos(np.sqrt(k / m) * t) + (v0 / np.sqrt(k / m)) * np.sin(np.sqrt(k / m) * t)\n",
    "    return x    "
   ]
  },
  {
   "cell_type": "code",
   "execution_count": 5,
   "metadata": {},
   "outputs": [],
   "source": [
    "## Number of Samples \n",
    "n = 100000\n",
    "## Output\n",
    "data_t = []\n",
    "data_x = []\n",
    "\n",
    "# k = np.random.randint(1, 100)\n",
    "# m = np.random.randint(1, 100)\n",
    "# x0 = np.random.normal(0, 10)\n",
    "# v0 = np.random.normal(0, 10)\n",
    "# k = 1\n",
    "# m = 1000\n",
    "# x0 = 1\n",
    "# v0 = 1\n",
    "\n",
    "t = np.linspace(0, 100, 100)\n",
    "\n",
    "## Generate Data\n",
    "for _ in range(n):\n",
    "    k = np.random.randint(1, 10)\n",
    "    k_vec = k * np.ones(100)\n",
    "    m = np.random.randint(100, 1000)\n",
    "    m_vec = m * np.ones(100)\n",
    "    x0 = np.random.normal(0, 10)\n",
    "    x0_vec = x0 * np.ones(100)\n",
    "    v0 = np.random.normal(0, 1)\n",
    "    v0_vec = v0 * np.ones(100)\n",
    "    \n",
    "    data_t.append([k_vec, m_vec, x0_vec, v0_vec, t])\n",
    "    data_x.append(simple_harmonic_oscillator(k, m, x0, v0, t))"
   ]
  },
  {
   "cell_type": "code",
   "execution_count": 6,
   "metadata": {},
   "outputs": [],
   "source": [
    "## Plot\n",
    "# plt.scatter(data_t, data_x, alpha=0.5)\n",
    "# plt.show()"
   ]
  },
  {
   "cell_type": "code",
   "execution_count": 7,
   "metadata": {},
   "outputs": [
    {
     "name": "stderr",
     "output_type": "stream",
     "text": [
      "C:\\Users\\Harris\\AppData\\Local\\Temp\\ipykernel_2652\\3560125304.py:1: UserWarning: Creating a tensor from a list of numpy.ndarrays is extremely slow. Please consider converting the list to a single numpy.ndarray with numpy.array() before converting to a tensor. (Triggered internally at  C:\\actions-runner\\_work\\pytorch\\pytorch\\builder\\windows\\pytorch\\torch\\csrc\\utils\\tensor_new.cpp:204.)\n",
      "  data_t = np.array(torch.tensor(data_t).float())\n"
     ]
    }
   ],
   "source": [
    "data_t = np.array(torch.tensor(data_t).float())\n",
    "data_x = np.array(torch.tensor(data_x).float().unsqueeze(1))"
   ]
  },
  {
   "cell_type": "code",
   "execution_count": 8,
   "metadata": {},
   "outputs": [],
   "source": [
    "## Data Loader\n",
    "from torch.utils.data import Dataset, DataLoader\n",
    "import pandas as pd\n",
    "\n",
    "class CustomDataset(Dataset):\n",
    "    def __init__(self, t, x):\n",
    "        self.t = t\n",
    "        self.x = x\n",
    "\n",
    "    def __len__(self):\n",
    "        return len(self.t)\n",
    "    \n",
    "    def __getitem__(self, index):\n",
    "        return self.t[index], self.x[index]\n",
    "\n",
    "data = CustomDataset(data_t, data_x)"
   ]
  },
  {
   "cell_type": "code",
   "execution_count": 9,
   "metadata": {},
   "outputs": [
    {
     "data": {
      "text/plain": [
       "array([[  6.       ,   6.       ,   6.       ,   6.       ,   6.       ,\n",
       "          6.       ,   6.       ,   6.       ,   6.       ,   6.       ,\n",
       "          6.       ,   6.       ,   6.       ,   6.       ,   6.       ,\n",
       "          6.       ,   6.       ,   6.       ,   6.       ,   6.       ,\n",
       "          6.       ,   6.       ,   6.       ,   6.       ,   6.       ,\n",
       "          6.       ,   6.       ,   6.       ,   6.       ,   6.       ,\n",
       "          6.       ,   6.       ,   6.       ,   6.       ,   6.       ,\n",
       "          6.       ,   6.       ,   6.       ,   6.       ,   6.       ,\n",
       "          6.       ,   6.       ,   6.       ,   6.       ,   6.       ,\n",
       "          6.       ,   6.       ,   6.       ,   6.       ,   6.       ,\n",
       "          6.       ,   6.       ,   6.       ,   6.       ,   6.       ,\n",
       "          6.       ,   6.       ,   6.       ,   6.       ,   6.       ,\n",
       "          6.       ,   6.       ,   6.       ,   6.       ,   6.       ,\n",
       "          6.       ,   6.       ,   6.       ,   6.       ,   6.       ,\n",
       "          6.       ,   6.       ,   6.       ,   6.       ,   6.       ,\n",
       "          6.       ,   6.       ,   6.       ,   6.       ,   6.       ,\n",
       "          6.       ,   6.       ,   6.       ,   6.       ,   6.       ,\n",
       "          6.       ,   6.       ,   6.       ,   6.       ,   6.       ,\n",
       "          6.       ,   6.       ,   6.       ,   6.       ,   6.       ,\n",
       "          6.       ,   6.       ,   6.       ,   6.       ,   6.       ],\n",
       "       [292.       , 292.       , 292.       , 292.       , 292.       ,\n",
       "        292.       , 292.       , 292.       , 292.       , 292.       ,\n",
       "        292.       , 292.       , 292.       , 292.       , 292.       ,\n",
       "        292.       , 292.       , 292.       , 292.       , 292.       ,\n",
       "        292.       , 292.       , 292.       , 292.       , 292.       ,\n",
       "        292.       , 292.       , 292.       , 292.       , 292.       ,\n",
       "        292.       , 292.       , 292.       , 292.       , 292.       ,\n",
       "        292.       , 292.       , 292.       , 292.       , 292.       ,\n",
       "        292.       , 292.       , 292.       , 292.       , 292.       ,\n",
       "        292.       , 292.       , 292.       , 292.       , 292.       ,\n",
       "        292.       , 292.       , 292.       , 292.       , 292.       ,\n",
       "        292.       , 292.       , 292.       , 292.       , 292.       ,\n",
       "        292.       , 292.       , 292.       , 292.       , 292.       ,\n",
       "        292.       , 292.       , 292.       , 292.       , 292.       ,\n",
       "        292.       , 292.       , 292.       , 292.       , 292.       ,\n",
       "        292.       , 292.       , 292.       , 292.       , 292.       ,\n",
       "        292.       , 292.       , 292.       , 292.       , 292.       ,\n",
       "        292.       , 292.       , 292.       , 292.       , 292.       ,\n",
       "        292.       , 292.       , 292.       , 292.       , 292.       ,\n",
       "        292.       , 292.       , 292.       , 292.       , 292.       ],\n",
       "       [  9.78738  ,   9.78738  ,   9.78738  ,   9.78738  ,   9.78738  ,\n",
       "          9.78738  ,   9.78738  ,   9.78738  ,   9.78738  ,   9.78738  ,\n",
       "          9.78738  ,   9.78738  ,   9.78738  ,   9.78738  ,   9.78738  ,\n",
       "          9.78738  ,   9.78738  ,   9.78738  ,   9.78738  ,   9.78738  ,\n",
       "          9.78738  ,   9.78738  ,   9.78738  ,   9.78738  ,   9.78738  ,\n",
       "          9.78738  ,   9.78738  ,   9.78738  ,   9.78738  ,   9.78738  ,\n",
       "          9.78738  ,   9.78738  ,   9.78738  ,   9.78738  ,   9.78738  ,\n",
       "          9.78738  ,   9.78738  ,   9.78738  ,   9.78738  ,   9.78738  ,\n",
       "          9.78738  ,   9.78738  ,   9.78738  ,   9.78738  ,   9.78738  ,\n",
       "          9.78738  ,   9.78738  ,   9.78738  ,   9.78738  ,   9.78738  ,\n",
       "          9.78738  ,   9.78738  ,   9.78738  ,   9.78738  ,   9.78738  ,\n",
       "          9.78738  ,   9.78738  ,   9.78738  ,   9.78738  ,   9.78738  ,\n",
       "          9.78738  ,   9.78738  ,   9.78738  ,   9.78738  ,   9.78738  ,\n",
       "          9.78738  ,   9.78738  ,   9.78738  ,   9.78738  ,   9.78738  ,\n",
       "          9.78738  ,   9.78738  ,   9.78738  ,   9.78738  ,   9.78738  ,\n",
       "          9.78738  ,   9.78738  ,   9.78738  ,   9.78738  ,   9.78738  ,\n",
       "          9.78738  ,   9.78738  ,   9.78738  ,   9.78738  ,   9.78738  ,\n",
       "          9.78738  ,   9.78738  ,   9.78738  ,   9.78738  ,   9.78738  ,\n",
       "          9.78738  ,   9.78738  ,   9.78738  ,   9.78738  ,   9.78738  ,\n",
       "          9.78738  ,   9.78738  ,   9.78738  ,   9.78738  ,   9.78738  ],\n",
       "       [  2.2408931,   2.2408931,   2.2408931,   2.2408931,   2.2408931,\n",
       "          2.2408931,   2.2408931,   2.2408931,   2.2408931,   2.2408931,\n",
       "          2.2408931,   2.2408931,   2.2408931,   2.2408931,   2.2408931,\n",
       "          2.2408931,   2.2408931,   2.2408931,   2.2408931,   2.2408931,\n",
       "          2.2408931,   2.2408931,   2.2408931,   2.2408931,   2.2408931,\n",
       "          2.2408931,   2.2408931,   2.2408931,   2.2408931,   2.2408931,\n",
       "          2.2408931,   2.2408931,   2.2408931,   2.2408931,   2.2408931,\n",
       "          2.2408931,   2.2408931,   2.2408931,   2.2408931,   2.2408931,\n",
       "          2.2408931,   2.2408931,   2.2408931,   2.2408931,   2.2408931,\n",
       "          2.2408931,   2.2408931,   2.2408931,   2.2408931,   2.2408931,\n",
       "          2.2408931,   2.2408931,   2.2408931,   2.2408931,   2.2408931,\n",
       "          2.2408931,   2.2408931,   2.2408931,   2.2408931,   2.2408931,\n",
       "          2.2408931,   2.2408931,   2.2408931,   2.2408931,   2.2408931,\n",
       "          2.2408931,   2.2408931,   2.2408931,   2.2408931,   2.2408931,\n",
       "          2.2408931,   2.2408931,   2.2408931,   2.2408931,   2.2408931,\n",
       "          2.2408931,   2.2408931,   2.2408931,   2.2408931,   2.2408931,\n",
       "          2.2408931,   2.2408931,   2.2408931,   2.2408931,   2.2408931,\n",
       "          2.2408931,   2.2408931,   2.2408931,   2.2408931,   2.2408931,\n",
       "          2.2408931,   2.2408931,   2.2408931,   2.2408931,   2.2408931,\n",
       "          2.2408931,   2.2408931,   2.2408931,   2.2408931,   2.2408931],\n",
       "       [  0.       ,   1.010101 ,   2.020202 ,   3.030303 ,   4.040404 ,\n",
       "          5.050505 ,   6.060606 ,   7.070707 ,   8.080808 ,   9.090909 ,\n",
       "         10.10101  ,  11.111111 ,  12.121212 ,  13.131313 ,  14.141414 ,\n",
       "         15.151515 ,  16.161615 ,  17.171717 ,  18.181818 ,  19.19192  ,\n",
       "         20.20202  ,  21.212122 ,  22.222221 ,  23.232323 ,  24.242424 ,\n",
       "         25.252525 ,  26.262627 ,  27.272728 ,  28.282827 ,  29.292929 ,\n",
       "         30.30303  ,  31.313131 ,  32.32323  ,  33.333332 ,  34.343433 ,\n",
       "         35.353535 ,  36.363636 ,  37.373737 ,  38.38384  ,  39.39394  ,\n",
       "         40.40404  ,  41.414143 ,  42.424244 ,  43.434345 ,  44.444443 ,\n",
       "         45.454544 ,  46.464645 ,  47.474747 ,  48.484848 ,  49.49495  ,\n",
       "         50.50505  ,  51.515152 ,  52.525253 ,  53.535355 ,  54.545456 ,\n",
       "         55.555557 ,  56.565655 ,  57.575756 ,  58.585857 ,  59.59596  ,\n",
       "         60.60606  ,  61.61616  ,  62.626263 ,  63.636364 ,  64.64646  ,\n",
       "         65.65656  ,  66.666664 ,  67.676765 ,  68.68687  ,  69.69697  ,\n",
       "         70.70707  ,  71.71717  ,  72.72727  ,  73.73737  ,  74.747475 ,\n",
       "         75.757576 ,  76.76768  ,  77.77778  ,  78.78788  ,  79.79798  ,\n",
       "         80.80808  ,  81.818184 ,  82.828285 ,  83.83839  ,  84.84849  ,\n",
       "         85.85859  ,  86.86869  ,  87.878784 ,  88.888885 ,  89.89899  ,\n",
       "         90.90909  ,  91.91919  ,  92.92929  ,  93.93939  ,  94.94949  ,\n",
       "         95.959595 ,  96.969696 ,  97.9798   ,  98.9899   , 100.       ]],\n",
       "      dtype=float32)"
      ]
     },
     "execution_count": 9,
     "metadata": {},
     "output_type": "execute_result"
    }
   ],
   "source": [
    "data[0][0]"
   ]
  },
  {
   "cell_type": "code",
   "execution_count": 10,
   "metadata": {},
   "outputs": [
    {
     "data": {
      "text/plain": [
       "(5, 100)"
      ]
     },
     "execution_count": 10,
     "metadata": {},
     "output_type": "execute_result"
    }
   ],
   "source": [
    "data[0][0].shape"
   ]
  },
  {
   "cell_type": "code",
   "execution_count": 11,
   "metadata": {},
   "outputs": [],
   "source": [
    "dataloader = DataLoader(data, batch_size=64, shuffle=True)"
   ]
  },
  {
   "attachments": {},
   "cell_type": "markdown",
   "metadata": {},
   "source": [
    "## Build Network"
   ]
  },
  {
   "cell_type": "code",
   "execution_count": 12,
   "metadata": {},
   "outputs": [
    {
     "name": "stdout",
     "output_type": "stream",
     "text": [
      "Using cpu device.\n"
     ]
    }
   ],
   "source": [
    "## Get Device for Training\n",
    "device = 'cuda' if torch.cuda.is_available() else 'cpu'\n",
    "print(f'Using {device} device.')"
   ]
  },
  {
   "cell_type": "code",
   "execution_count": 13,
   "metadata": {},
   "outputs": [],
   "source": [
    "## Fourier Integral Kernel 1D\n",
    "class FourierIntegralKernel1D(nn.Module):\n",
    "    def __init__(self, in_channels: int, out_channels: int, modes: int):\n",
    "        super(FourierIntegralKernel1D, self).__init__()\n",
    "        '''\n",
    "        '''\n",
    "        self.in_channels = in_channels\n",
    "        self.out_channels = out_channels \n",
    "        self.modes = modes \n",
    "        ## Set (random) weights for the linear transform\n",
    "        weights = torch.rand(self.modes, self.out_channels, self.in_channels, dtype=torch.cfloat) \n",
    "        self.weights = nn.Parameter(weights / (self.in_channels * self.out_channels)) ## Optional: Scale weights\n",
    "\n",
    "    def forward(self, v: torch.Tensor) -> torch.Tensor:\n",
    "        '''\n",
    "        FFT -> Linear Transform -> Inverse FFT\n",
    "        '''\n",
    "        ## FFT\n",
    "        v_rfft = torch.fft.rfft(v) \n",
    "\n",
    "        ## Linear Transform \n",
    "        lv_rfft = torch.zeros(v_rfft.shape, dtype=torch.cfloat)\n",
    "        lv_rfft[:, :, :self.modes] = torch.einsum('koi, bki -> bko', self.weights, v_rfft[:, :, :self.modes].permute(0, 2, 1)).permute(0, 2, 1) ## TODO: Should I have 5 dimensions here?\n",
    "        \n",
    "        ## Inverse FFT\n",
    "        v2 = torch.fft.irfft(lv_rfft, n=v.shape[-1])\n",
    "        return v2\n",
    "        "
   ]
  },
  {
   "cell_type": "code",
   "execution_count": 14,
   "metadata": {},
   "outputs": [],
   "source": [
    "## Fourier Network Operator 1D\n",
    "class FourierNetworkOperator1D(nn.Module):\n",
    "    def __init__(self, da: int, du: int, width: int, modes: int):\n",
    "        super(FourierNetworkOperator1D, self).__init__()\n",
    "        '''\n",
    "        '''\n",
    "        self.width = width\n",
    "        self.modes = modes\n",
    "\n",
    "        ## P: Lifts the lower dimensional function to higher dimensional space\n",
    "        self.P = nn.Conv1d(da, self.width, 1) ## TODO: Change da\n",
    "\n",
    "        ## K: Fourier integral kernel operator\n",
    "        self.k0 = FourierIntegralKernel1D(self.width, self.width, self.modes)\n",
    "        self.k1 = FourierIntegralKernel1D(self.width, self.width, self.modes)\n",
    "        self.k2 = FourierIntegralKernel1D(self.width, self.width, self.modes)\n",
    "        self.k3 = FourierIntegralKernel1D(self.width, self.width, self.modes)\n",
    "        self.k4 = FourierIntegralKernel1D(self.width, self.width, self.modes)\n",
    "        self.k5 = FourierIntegralKernel1D(self.width, self.width, self.modes)\n",
    "        self.k6 = FourierIntegralKernel1D(self.width, self.width, self.modes)\n",
    "        self.k7 = FourierIntegralKernel1D(self.width, self.width, self.modes)\n",
    "        self.k8 = FourierIntegralKernel1D(self.width, self.width, self.modes)\n",
    "        self.k9 = FourierIntegralKernel1D(self.width, self.width, self.modes)\n",
    "\n",
    "        ## W: Pointwise linear operator\n",
    "        self.w0 = nn.Conv1d(self.width, self.width, 1)\n",
    "        self.w1 = nn.Conv1d(self.width, self.width, 1)\n",
    "        self.w2 = nn.Conv1d(self.width, self.width, 1)\n",
    "        self.w3 = nn.Conv1d(self.width, self.width, 1)\n",
    "        self.w4 = nn.Conv1d(self.width, self.width, 1)\n",
    "        self.w5 = nn.Conv1d(self.width, self.width, 1)\n",
    "        self.w6 = nn.Conv1d(self.width, self.width, 1)\n",
    "        self.w7 = nn.Conv1d(self.width, self.width, 1)\n",
    "        self.w8 = nn.Conv1d(self.width, self.width, 1)\n",
    "        self.w9 = nn.Conv1d(self.width, self.width, 1)\n",
    "\n",
    "        ## Q: Projects the higher dimensional function to lower dimensional space\n",
    "        self.Q = nn.Conv1d(self.width, du, 1) ## TODO: Change du\n",
    "\n",
    "    def forward(self, x: torch.Tensor) -> torch.Tensor:\n",
    "        '''\n",
    "        '''\n",
    "        ## P\n",
    "        x = self.P(x)\n",
    "\n",
    "        ## Fourier Layer #0\n",
    "        ## K\n",
    "        x1 = self.k0(x)\n",
    "        ## W\n",
    "        x2 = self.w0(x)\n",
    "        ## Sum\n",
    "        x = x1 + x2\n",
    "        ## Gelu\n",
    "        x = nn.functional.gelu(x)\n",
    "        # x = nn.functional.gelu(x1)\n",
    "        # x = nn.functional.gelu(x2)\n",
    "\n",
    "        ## Fourier Layer #1\n",
    "        ## K\n",
    "        x1 = self.k1(x)\n",
    "        ## W\n",
    "        x2 = self.w1(x)\n",
    "        ## Sum \n",
    "        x = x1 + x2\n",
    "        ## Gelu\n",
    "        x = nn.functional.gelu(x)\n",
    "        # x = nn.functional.gelu(x1)\n",
    "        # x = nn.functional.gelu(x2)\n",
    "\n",
    "        ## Fourier Layer #2\n",
    "        ## K\n",
    "        x1 = self.k2(x)\n",
    "        ## W\n",
    "        x2 = self.w2(x)\n",
    "        ## Sum\n",
    "        x = x1 + x2\n",
    "        ## Gelu\n",
    "        x = nn.functional.gelu(x)\n",
    "        # x = nn.functional.gelu(x1)\n",
    "        # x = nn.functional.gelu(x2)\n",
    "\n",
    "        ## Fourier Layer #3\n",
    "        ## K\n",
    "        x1 = self.k3(x)\n",
    "        ## W\n",
    "        x2 = self.w3(x)\n",
    "        ## Sum\n",
    "        x = x1 + x2\n",
    "        ## Gelu\n",
    "        x = nn.functional.gelu(x)\n",
    "        # x = nn.functional.gelu(x1)\n",
    "        # x = nn.functional.gelu(x2)\n",
    "\n",
    "        ## Fourier Layer #4\n",
    "        ## K\n",
    "        x1 = self.k4(x)\n",
    "        ## W\n",
    "        x2 = self.w4(x)\n",
    "        ## Sum\n",
    "        x = x1 + x2\n",
    "        ## Gelu\n",
    "        x = nn.functional.gelu(x)\n",
    "        # x = nn.functional.gelu(x1)\n",
    "        # x = nn.functional.gelu(x2)\n",
    "\n",
    "        ## Fourier Layer #5\n",
    "        ## K\n",
    "        x1 = self.k5(x)\n",
    "        ## W\n",
    "        x2 = self.w5(x)\n",
    "        ## Sum\n",
    "        x = x1 + x2\n",
    "        ## Gelu\n",
    "        x = nn.functional.gelu(x)\n",
    "        # x = nn.functional.gelu(x1)\n",
    "        # x = nn.functional.gelu(x2)\n",
    "\n",
    "        ## Fourier Layer #6\n",
    "        ## K\n",
    "        x1 = self.k6(x)\n",
    "        ## W\n",
    "        x2 = self.w6(x)\n",
    "        ## Sum\n",
    "        x = x1 + x2\n",
    "        ## Gelu\n",
    "        x = nn.functional.gelu(x)\n",
    "        # x = nn.functional.gelu(x1)\n",
    "        # x = nn.functional.gelu(x2)\n",
    "\n",
    "        ## Fourier Layer #7\n",
    "        ## K\n",
    "        x1 = self.k7(x)\n",
    "        ## W\n",
    "        x2 = self.w7(x)\n",
    "        ## Sum\n",
    "        x = x1 + x2\n",
    "        ## Gelu\n",
    "        x = nn.functional.gelu(x)\n",
    "        # x = nn.functional.gelu(x1)\n",
    "        # x = nn.functional.gelu(x2)\n",
    "\n",
    "        ## Fourier Layer #8\n",
    "        ## K\n",
    "        x1 = self.k8(x)\n",
    "        ## W\n",
    "        x2 = self.w8(x)\n",
    "        ## Sum\n",
    "        x = x1 + x2\n",
    "        ## Gelu\n",
    "        x = nn.functional.gelu(x)\n",
    "        # x = nn.functional.gelu(x1)\n",
    "        # x = nn.functional.gelu(x2)\n",
    "\n",
    "        ## Fourier Layer #9\n",
    "        ## K\n",
    "        x1 = self.k9(x)\n",
    "        ## W\n",
    "        x2 = self.w9(x)\n",
    "        ## Sum\n",
    "        x = x1 + x2\n",
    "        ## Gelu\n",
    "        x = nn.functional.gelu(x)\n",
    "        # x = nn.functional.gelu(x1)\n",
    "        # x = nn.functional.gelu(x2)\n",
    "\n",
    "        ## Q\n",
    "        x = self.Q(x)\n",
    "        return x\n"
   ]
  },
  {
   "cell_type": "code",
   "execution_count": 16,
   "metadata": {},
   "outputs": [
    {
     "name": "stdout",
     "output_type": "stream",
     "text": [
      "Number of parameters: 369729\n"
     ]
    }
   ],
   "source": [
    "import operator\n",
    "from functools import reduce\n",
    "\n",
    "def count_parameters(model):\n",
    "    c = 0\n",
    "    for p in list(model.parameters()):\n",
    "        c += reduce(operator.mul, list(p.size() + (2, ) if p.is_complex() else p.size()))\n",
    "    return c\n",
    "\n",
    "model = FourierNetworkOperator1D(5, 1, width=64, modes=4)\n",
    "print(f'Number of parameters: {count_parameters(model)}')"
   ]
  },
  {
   "attachments": {},
   "cell_type": "markdown",
   "metadata": {},
   "source": [
    "## Train"
   ]
  },
  {
   "cell_type": "code",
   "execution_count": 17,
   "metadata": {},
   "outputs": [],
   "source": [
    "## Model Parameters\n",
    "learning_rate = 1e-3\n",
    "epochs = 5"
   ]
  },
  {
   "cell_type": "code",
   "execution_count": 18,
   "metadata": {},
   "outputs": [],
   "source": [
    "## Loss Function\n",
    "loss_function = nn.MSELoss()"
   ]
  },
  {
   "cell_type": "code",
   "execution_count": 19,
   "metadata": {},
   "outputs": [],
   "source": [
    "## Optimizer \n",
    "optimizer = torch.optim.Adam(model.parameters(), lr=learning_rate)"
   ]
  },
  {
   "cell_type": "code",
   "execution_count": 20,
   "metadata": {},
   "outputs": [
    {
     "name": "stdout",
     "output_type": "stream",
     "text": [
      "k: 8\n",
      "m: 103\n",
      "x0: -7.876778612253428\n",
      "v0: -0.3831955337841861\n"
     ]
    },
    {
     "data": {
      "image/png": "[encoded data removed]",
      "text/plain": [
       "<Figure size 432x288 with 1 Axes>"
      ]
     },
     "metadata": {
      "needs_background": "light"
     },
     "output_type": "display_data"
    }
   ],
   "source": [
    "## Test 0\n",
    "k0 = np.random.randint(1, 10)\n",
    "print(f'k: {k0}')\n",
    "k0_vec = torch.from_numpy(k0 * np.ones(100)).float().unsqueeze(0).unsqueeze(0)\n",
    "\n",
    "m0 = np.random.randint(100, 1000)\n",
    "print(f'm: {m0}')\n",
    "m0_vec = torch.from_numpy(m0 * np.ones(100)).float().unsqueeze(0).unsqueeze(0)\n",
    "\n",
    "x00 = np.random.normal(0, 10)\n",
    "print(f'x0: {x00}')\n",
    "x00_vec = torch.from_numpy(x00 * np.ones(100)).float().unsqueeze(0).unsqueeze(0)\n",
    "\n",
    "v00 = np.random.normal(0, 1)\n",
    "print(f'v0: {v00}')\n",
    "v00_vec = torch.from_numpy(v00 * np.ones(100)).float().unsqueeze(0).unsqueeze(0)\n",
    "\n",
    "t_test = torch.from_numpy(np.linspace(0, 100, 100)).float().unsqueeze(0).unsqueeze(0)\n",
    "x0_test = simple_harmonic_oscillator(k0, m0, x00, v00, t_test)\n",
    "\n",
    "\n",
    "plt.scatter(t_test, x0_test, alpha=0.5)\n",
    "plt.scatter(t_test, model(torch.cat((k0_vec, m0_vec, x00_vec, v00_vec, t_test), 1)).detach())\n",
    "plt.show()"
   ]
  },
  {
   "cell_type": "code",
   "execution_count": 21,
   "metadata": {},
   "outputs": [
    {
     "name": "stdout",
     "output_type": "stream",
     "text": [
      "k: 3\n",
      "m: 851\n",
      "x0: 15.608696691815428\n",
      "v0: -0.9002683086629437\n"
     ]
    },
    {
     "data": {
      "image/png": "[encoded data removed]",
      "text/plain": [
       "<Figure size 432x288 with 1 Axes>"
      ]
     },
     "metadata": {
      "needs_background": "light"
     },
     "output_type": "display_data"
    }
   ],
   "source": [
    "## Test 1\n",
    "k1 = np.random.randint(1, 10)\n",
    "print(f'k: {k1}')\n",
    "k1_vec = torch.from_numpy(k1 * np.ones(100)).float().unsqueeze(0).unsqueeze(0)\n",
    "\n",
    "m1 = np.random.randint(100, 1000)\n",
    "print(f'm: {m1}')\n",
    "m1_vec = torch.from_numpy(m1 * np.ones(100)).float().unsqueeze(0).unsqueeze(0)\n",
    "\n",
    "x01 = np.random.normal(0, 10)\n",
    "print(f'x0: {x01}')\n",
    "x01_vec = torch.from_numpy(x01 * np.ones(100)).float().unsqueeze(0).unsqueeze(0)\n",
    "\n",
    "v01 = np.random.normal(0, 1)\n",
    "print(f'v0: {v01}')\n",
    "v01_vec = torch.from_numpy(v01 * np.ones(100)).float().unsqueeze(0).unsqueeze(0)\n",
    "\n",
    "t_test = torch.from_numpy(np.linspace(0, 100, 100)).float().unsqueeze(0).unsqueeze(0)\n",
    "x1_test = simple_harmonic_oscillator(k1, m1, x01, v01, t_test)\n",
    "\n",
    "\n",
    "plt.scatter(t_test, x1_test, alpha=0.5)\n",
    "plt.scatter(t_test, model(torch.cat((k1_vec, m1_vec, x01_vec, v01_vec, t_test), 1)).detach())\n",
    "plt.show()"
   ]
  },
  {
   "cell_type": "code",
   "execution_count": 22,
   "metadata": {},
   "outputs": [
    {
     "name": "stdout",
     "output_type": "stream",
     "text": [
      "k: 1\n",
      "m: 296\n",
      "x0: 2.8440675208854898\n",
      "v0: 1.644910662466654\n"
     ]
    },
    {
     "data": {
      "image/png": "[encoded data removed]",
      "text/plain": [
       "<Figure size 432x288 with 1 Axes>"
      ]
     },
     "metadata": {
      "needs_background": "light"
     },
     "output_type": "display_data"
    }
   ],
   "source": [
    "## Test 2\n",
    "k2 = np.random.randint(1, 10)\n",
    "print(f'k: {k2}')\n",
    "k2_vec = torch.from_numpy(k2 * np.ones(100)).float().unsqueeze(0).unsqueeze(0)\n",
    "\n",
    "m2 = np.random.randint(100, 1000)\n",
    "print(f'm: {m2}')\n",
    "m2_vec = torch.from_numpy(m2 * np.ones(100)).float().unsqueeze(0).unsqueeze(0)\n",
    "\n",
    "x02 = np.random.normal(0, 10)\n",
    "print(f'x0: {x02}')\n",
    "x02_vec = torch.from_numpy(x02 * np.ones(100)).float().unsqueeze(0).unsqueeze(0)\n",
    "\n",
    "v02 = np.random.normal(0, 1)\n",
    "print(f'v0: {v02}')\n",
    "v02_vec = torch.from_numpy(v02 * np.ones(100)).float().unsqueeze(0).unsqueeze(0)\n",
    "\n",
    "t_test = torch.from_numpy(np.linspace(0, 100, 100)).float().unsqueeze(0).unsqueeze(0)\n",
    "x2_test = simple_harmonic_oscillator(k2, m2, x02, v02, t_test)\n",
    "\n",
    "\n",
    "plt.scatter(t_test, x2_test, alpha=0.5)\n",
    "plt.scatter(t_test, model(torch.cat((k2_vec, m2_vec, x02_vec, v02_vec, t_test), 1)).detach())\n",
    "plt.show()"
   ]
  },
  {
   "cell_type": "code",
   "execution_count": 23,
   "metadata": {},
   "outputs": [],
   "source": [
    "## Training Loop\n",
    "def train_loop(dataloader, model, loss_function, optimizer):\n",
    "    size = len(dataloader.dataset)\n",
    "    for batch, (t, x) in enumerate(dataloader):\n",
    "        # Compute prediction and loss\n",
    "        pred = model(t)\n",
    "        loss = loss_function(pred, x)\n",
    "\n",
    "        # Backpropagation\n",
    "        optimizer.zero_grad()\n",
    "        loss.backward()\n",
    "        optimizer.step()\n",
    "\n",
    "        if batch % 100 == 0:\n",
    "            loss, current = loss.item(), batch * len(t)\n",
    "            print(f\"loss: {loss:>7f}  [{current:>5d}/{size:>5d}]\")"
   ]
  },
  {
   "cell_type": "code",
   "execution_count": 40,
   "metadata": {},
   "outputs": [
    {
     "name": "stdout",
     "output_type": "stream",
     "text": [
      "Epoch 1\n",
      "-------------------------------\n",
      "loss: 1.808330  [    0/100000]\n",
      "loss: 0.933355  [ 6400/100000]\n",
      "loss: 0.256451  [12800/100000]\n",
      "loss: 0.315100  [19200/100000]\n",
      "loss: 0.455135  [25600/100000]\n",
      "loss: 0.330606  [32000/100000]\n",
      "loss: 0.627946  [38400/100000]\n",
      "loss: 2.311706  [44800/100000]\n",
      "loss: 4.289556  [51200/100000]\n",
      "loss: 0.583473  [57600/100000]\n",
      "loss: 0.122691  [64000/100000]\n",
      "loss: 0.344625  [70400/100000]\n",
      "loss: 0.137905  [76800/100000]\n",
      "loss: 0.288306  [83200/100000]\n",
      "loss: 0.163801  [89600/100000]\n",
      "loss: 0.584641  [96000/100000]\n",
      "Epoch 2\n",
      "-------------------------------\n",
      "loss: 0.343729  [    0/100000]\n",
      "loss: 0.267848  [ 6400/100000]\n",
      "loss: 1.326963  [12800/100000]\n",
      "loss: 0.421664  [19200/100000]\n",
      "loss: 0.202108  [25600/100000]\n",
      "loss: 0.720612  [32000/100000]\n",
      "loss: 0.401791  [38400/100000]\n",
      "loss: 0.467022  [44800/100000]\n",
      "loss: 0.381420  [51200/100000]\n",
      "loss: 0.177319  [57600/100000]\n",
      "loss: 0.284928  [64000/100000]\n",
      "loss: 18.001995  [70400/100000]\n",
      "loss: 1.295754  [76800/100000]\n",
      "loss: 0.328342  [83200/100000]\n",
      "loss: 0.138580  [89600/100000]\n",
      "loss: 0.174965  [96000/100000]\n",
      "Epoch 3\n",
      "-------------------------------\n",
      "loss: 0.272780  [    0/100000]\n",
      "loss: 1.591576  [ 6400/100000]\n",
      "loss: 0.526868  [12800/100000]\n",
      "loss: 0.185700  [19200/100000]\n",
      "loss: 0.386502  [25600/100000]\n",
      "loss: 0.165801  [32000/100000]\n",
      "loss: 0.119892  [38400/100000]\n",
      "loss: 0.094772  [44800/100000]\n",
      "loss: 0.274490  [51200/100000]\n",
      "loss: 0.650991  [57600/100000]\n",
      "loss: 0.523320  [64000/100000]\n",
      "loss: 0.812705  [70400/100000]\n",
      "loss: 1.466035  [76800/100000]\n",
      "loss: 0.153326  [83200/100000]\n",
      "loss: 1.211595  [89600/100000]\n",
      "loss: 5.424390  [96000/100000]\n",
      "Epoch 4\n",
      "-------------------------------\n",
      "loss: 0.930259  [    0/100000]\n",
      "loss: 19.354792  [ 6400/100000]\n",
      "loss: 0.717122  [12800/100000]\n",
      "loss: 0.955719  [19200/100000]\n",
      "loss: 0.221003  [25600/100000]\n",
      "loss: 0.135930  [32000/100000]\n",
      "loss: 0.104910  [38400/100000]\n",
      "loss: 0.223782  [44800/100000]\n",
      "loss: 0.144132  [51200/100000]\n",
      "loss: 0.095253  [57600/100000]\n",
      "loss: 0.819457  [64000/100000]\n",
      "loss: 0.356239  [70400/100000]\n",
      "loss: 0.070799  [76800/100000]\n",
      "loss: 0.139338  [83200/100000]\n",
      "loss: 0.221953  [89600/100000]\n",
      "loss: 0.729165  [96000/100000]\n",
      "Epoch 5\n",
      "-------------------------------\n",
      "loss: 0.781350  [    0/100000]\n",
      "loss: 0.413231  [ 6400/100000]\n",
      "loss: 0.180193  [12800/100000]\n",
      "loss: 0.259969  [19200/100000]\n",
      "loss: 0.849144  [25600/100000]\n",
      "loss: 0.612460  [32000/100000]\n",
      "loss: 0.386106  [38400/100000]\n",
      "loss: 0.591237  [44800/100000]\n",
      "loss: 0.539963  [51200/100000]\n",
      "loss: 0.168098  [57600/100000]\n",
      "loss: 1.380130  [64000/100000]\n",
      "loss: 0.599552  [70400/100000]\n",
      "loss: 0.171084  [76800/100000]\n",
      "loss: 0.423249  [83200/100000]\n",
      "loss: 0.425330  [89600/100000]\n",
      "loss: 1.136033  [96000/100000]\n",
      "Done!\n"
     ]
    }
   ],
   "source": [
    "for t in range(epochs):\n",
    "    print(f\"Epoch {t+1}\\n-------------------------------\")\n",
    "    train_loop(dataloader, model, loss_function, optimizer)\n",
    "print(\"Done!\")"
   ]
  },
  {
   "attachments": {},
   "cell_type": "markdown",
   "metadata": {},
   "source": [
    "## Test"
   ]
  },
  {
   "cell_type": "code",
   "execution_count": 41,
   "metadata": {},
   "outputs": [
    {
     "data": {
      "image/png": "[encoded data removed]",
      "text/plain": [
       "<Figure size 432x288 with 1 Axes>"
      ]
     },
     "metadata": {
      "needs_background": "light"
     },
     "output_type": "display_data"
    }
   ],
   "source": [
    "## Test 0\n",
    "plt.scatter(t_test, x0_test, alpha=0.5)\n",
    "plt.scatter(t_test, model(torch.cat((k0_vec, m0_vec, x00_vec, v00_vec, t_test), 1)).detach())\n",
    "plt.show()"
   ]
  },
  {
   "cell_type": "code",
   "execution_count": 42,
   "metadata": {},
   "outputs": [
    {
     "data": {
      "image/png": "[encoded data removed]",
      "text/plain": [
       "<Figure size 432x288 with 1 Axes>"
      ]
     },
     "metadata": {
      "needs_background": "light"
     },
     "output_type": "display_data"
    }
   ],
   "source": [
    "## Test 1\n",
    "plt.scatter(t_test, x1_test, alpha=0.5)\n",
    "plt.scatter(t_test, model(torch.cat((k1_vec, m1_vec, x01_vec, v01_vec, t_test), 1)).detach())\n",
    "plt.show()"
   ]
  },
  {
   "cell_type": "code",
   "execution_count": 43,
   "metadata": {},
   "outputs": [
    {
     "data": {
      "image/png": "[encoded data removed]",
      "text/plain": [
       "<Figure size 432x288 with 1 Axes>"
      ]
     },
     "metadata": {
      "needs_background": "light"
     },
     "output_type": "display_data"
    }
   ],
   "source": [
    "## Test 2\n",
    "plt.scatter(t_test, x2_test, alpha=0.5)\n",
    "plt.scatter(t_test, model(torch.cat((k2_vec, m2_vec, x02_vec, v02_vec, t_test), 1)).detach())\n",
    "plt.show()"
   ]
  }
 ],
 "metadata": {
  "kernelspec": {
   "display_name": "Python 3",
   "language": "python",
   "name": "python3"
  },
  "language_info": {
   "codemirror_mode": {
    "name": "ipython",
    "version": 3
   },
   "file_extension": ".py",
   "mimetype": "text/x-python",
   "name": "python",
   "nbconvert_exporter": "python",
   "pygments_lexer": "ipython3",
   "version": "3.8.7"
  },
  "orig_nbformat": 4,
  "vscode": {
   "interpreter": {
    "hash": "f54341ac4e2bdd69a6d68ef92ba10dc3d6a543b04dcfd5963186c31d127e10f5"
   }
  }
 },
 "nbformat": 4,
 "nbformat_minor": 2
}
