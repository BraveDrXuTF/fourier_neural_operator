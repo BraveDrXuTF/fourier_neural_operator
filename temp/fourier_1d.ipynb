{
 "cells": [
  {
   "attachments": {},
   "cell_type": "markdown",
   "metadata": {},
   "source": [
    "## Fourier Neural Operator 1D"
   ]
  },
  {
   "cell_type": "code",
   "execution_count": 1,
   "metadata": {},
   "outputs": [
    {
     "name": "stderr",
     "output_type": "stream",
     "text": [
      "c:\\Users\\s1612415\\AppData\\Local\\Programs\\Python\\Python310\\lib\\site-packages\\tqdm\\auto.py:22: TqdmWarning: IProgress not found. Please update jupyter and ipywidgets. See https://ipywidgets.readthedocs.io/en/stable/user_install.html\n",
      "  from .autonotebook import tqdm as notebook_tqdm\n"
     ]
    }
   ],
   "source": [
    "## Imports \n",
    "import matplotlib.pyplot as plt \n",
    "import numpy as np \n",
    "import torch \n",
    "import torch.nn as nn\n",
    "from timeit import default_timer"
   ]
  },
  {
   "cell_type": "code",
   "execution_count": 2,
   "metadata": {},
   "outputs": [],
   "source": [
    "## Set seeds\n",
    "torch.manual_seed(0)\n",
    "np.random.seed(0)"
   ]
  },
  {
   "attachments": {},
   "cell_type": "markdown",
   "metadata": {},
   "source": [
    "## Create Data"
   ]
  },
  {
   "attachments": {},
   "cell_type": "markdown",
   "metadata": {},
   "source": [
    "### Ordinary Differential Equation:\n",
    "\n",
    "\\begin{align*}\n",
    "m\\frac{d^2x}{dt^2} = - kx\n",
    "\\end{align*}\n",
    "\n",
    "Solution: \n",
    "$$x(t) = x_0 \\cos{\\left(\\sqrt{\\frac{k}{m}}t\\right)} + \\frac{v_0}{\\sqrt{\\frac{k}{m}}}\\sin{\\left(\\sqrt{\\frac{k}{m}}t\\right)}$$"
   ]
  },
  {
   "cell_type": "code",
   "execution_count": 3,
   "metadata": {},
   "outputs": [],
   "source": [
    "## TODO: Create Simple Harmonic Oscillator Class"
   ]
  },
  {
   "cell_type": "code",
   "execution_count": 4,
   "metadata": {},
   "outputs": [],
   "source": [
    "## Simple Harmonic Oscillator\n",
    "def simple_harmonic_oscillator(k: int, m: int, x0: int, v0: int, t: np.array) -> np.array:\n",
    "    x = x0 * np.cos(np.sqrt(k / m) * t) + v0 / np.sqrt(k / m) * np.sin(np.sqrt(k / m) * t)\n",
    "    return x    "
   ]
  },
  {
   "cell_type": "code",
   "execution_count": 5,
   "metadata": {},
   "outputs": [],
   "source": [
    "## Number of Samples \n",
    "n = 100000\n",
    "## Output\n",
    "data_t = []\n",
    "data_x = []\n",
    "\n",
    "# k = np.random.randint(1, 100)\n",
    "# m = np.random.randint(1, 100)\n",
    "# x0 = np.random.normal(0, 10)\n",
    "# v0 = np.random.normal(0, 10)\n",
    "k = 1\n",
    "m = 100\n",
    "x0 = 10\n",
    "v0 = 10\n",
    "\n",
    "## Generate Data\n",
    "for _ in range(n):\n",
    "    # k = np.random.randint(1, 100)\n",
    "    # m = np.random.randint(1, 100)\n",
    "    # x0 = np.random.normal(0, 10)\n",
    "    # v0 = np.random.normal(0, 10)\n",
    "    \n",
    "    t = np.random.uniform(0, 100)\n",
    "    data_t.append(t)\n",
    "    data_x.append(simple_harmonic_oscillator(k, m, x0, v0, t))"
   ]
  },
  {
   "cell_type": "code",
   "execution_count": 6,
   "metadata": {},
   "outputs": [
    {
     "data": {
      "image/png": "[encoded data removed]",
      "text/plain": [
       "<Figure size 640x480 with 1 Axes>"
      ]
     },
     "metadata": {},
     "output_type": "display_data"
    }
   ],
   "source": [
    "## Plot\n",
    "plt.scatter(data_t, data_x, alpha=0.5)\n",
    "plt.show()"
   ]
  },
  {
   "cell_type": "code",
   "execution_count": 7,
   "metadata": {},
   "outputs": [],
   "source": [
    "data_t = np.array(torch.tensor(data_t).float().unsqueeze(1).unsqueeze(1))\n",
    "data_x = np.array(torch.tensor(data_x).float().unsqueeze(1).unsqueeze(1))"
   ]
  },
  {
   "cell_type": "code",
   "execution_count": 8,
   "metadata": {},
   "outputs": [],
   "source": [
    "## Data Loader\n",
    "from torch.utils.data import Dataset, DataLoader\n",
    "import pandas as pd\n",
    "\n",
    "class CustomDataset(Dataset):\n",
    "    def __init__(self, t, x):\n",
    "        self.t = t\n",
    "        self.x = x\n",
    "\n",
    "    def __len__(self):\n",
    "        return len(self.t)\n",
    "    \n",
    "    def __getitem__(self, index):\n",
    "        return self.t[index], self.x[index]\n",
    "\n",
    "data = CustomDataset(data_t, data_x)"
   ]
  },
  {
   "cell_type": "code",
   "execution_count": 9,
   "metadata": {},
   "outputs": [],
   "source": [
    "dataloader = DataLoader(data, batch_size=64)"
   ]
  },
  {
   "attachments": {},
   "cell_type": "markdown",
   "metadata": {},
   "source": [
    "## Build Network"
   ]
  },
  {
   "cell_type": "code",
   "execution_count": 10,
   "metadata": {},
   "outputs": [
    {
     "name": "stdout",
     "output_type": "stream",
     "text": [
      "Using cpu device.\n"
     ]
    }
   ],
   "source": [
    "## Get Device for Training\n",
    "device = 'cuda' if torch.cuda.is_available() else 'cpu'\n",
    "print(f'Using {device} device.')"
   ]
  },
  {
   "cell_type": "code",
   "execution_count": 11,
   "metadata": {},
   "outputs": [],
   "source": [
    "## Fourier Integral Kernel 1D\n",
    "class FourierIntegralKernel1D(nn.Module):\n",
    "    def __init__(self, in_channels: int, out_channels: int, modes: int):\n",
    "        super(FourierIntegralKernel1D, self).__init__()\n",
    "        '''\n",
    "        '''\n",
    "        self.in_channels = in_channels\n",
    "        self.out_channels = out_channels \n",
    "        self.modes = modes \n",
    "        ## Set (random) weights for the linear transform\n",
    "        weights = torch.rand(self.modes, self.out_channels, self.in_channels, dtype=torch.cfloat) \n",
    "        self.weights = nn.Parameter(weights / (self.in_channels * self.out_channels)) ## Optional: Scale weights\n",
    "\n",
    "    def forward(self, v: torch.Tensor) -> torch.Tensor:\n",
    "        '''\n",
    "        FFT -> Linear Transform -> Inverse FFT\n",
    "        '''\n",
    "        ## FFT\n",
    "        v_rfft = torch.fft.rfft(v) \n",
    "\n",
    "        ## Linear Transform \n",
    "        lv_rfft = torch.zeros(v_rfft.shape, dtype=torch.cfloat)\n",
    "        lv_rfft[:, :, :self.modes] = torch.einsum('koi, bil -> bol', self.weights, v_rfft[:, :, :self.modes])\n",
    "        \n",
    "        ## Inverse FFT\n",
    "        v2 = torch.fft.irfft(lv_rfft, n=v.shape[-1])\n",
    "        return v2\n",
    "        "
   ]
  },
  {
   "cell_type": "code",
   "execution_count": 12,
   "metadata": {},
   "outputs": [],
   "source": [
    "## Fourier Network Operator 1D\n",
    "class FourierNetworkOperator1D(nn.Module):\n",
    "    def __init__(self, da: int, du: int, width: int, modes: int):\n",
    "        super(FourierNetworkOperator1D, self).__init__()\n",
    "        '''\n",
    "        '''\n",
    "        self.width = width\n",
    "        self.modes = modes\n",
    "\n",
    "        ## P: Lifts the lower dimensional function to higher dimensional space\n",
    "        self.P = nn.Conv1d(da, self.width, 1) ## TODO: Change da\n",
    "\n",
    "        ## K: Fourier integral kernel operator\n",
    "        self.k0 = FourierIntegralKernel1D(self.width, self.width, self.modes)\n",
    "        self.k1 = FourierIntegralKernel1D(self.width, self.width, self.modes)\n",
    "        self.k2 = FourierIntegralKernel1D(self.width, self.width, self.modes)\n",
    "        self.k3 = FourierIntegralKernel1D(self.width, self.width, self.modes)\n",
    "\n",
    "        ## W: Pointwise linear operator\n",
    "        self.w0 = nn.Conv1d(self.width, self.width, 1)\n",
    "        self.w1 = nn.Conv1d(self.width, self.width, 1)\n",
    "        self.w2 = nn.Conv1d(self.width, self.width, 1)\n",
    "        self.w3 = nn.Conv1d(self.width, self.width, 1)\n",
    "\n",
    "        ## Q: Projects the higher dimensional function to lower dimensional space\n",
    "        self.Q = nn.Conv1d(self.width, du, 1) ## TODO: Change du\n",
    "\n",
    "    def forward(self, x: torch.Tensor) -> torch.Tensor:\n",
    "        '''\n",
    "        '''\n",
    "        ## P\n",
    "        x = self.P(x)\n",
    "\n",
    "        ## Fourier Layer #0\n",
    "        ## K\n",
    "        x1 = self.k0(x)\n",
    "        ## W\n",
    "        x2 = self.w0(x)\n",
    "        ## Sum\n",
    "        x = x1 + x2\n",
    "        ## Gelu\n",
    "        x = nn.functional.gelu(x)\n",
    "        # x = nn.functional.gelu(x2)\n",
    "\n",
    "        ## Fourier Layer #1\n",
    "        ## K\n",
    "        x1 = self.k1(x)\n",
    "        ## W\n",
    "        x2 = self.w1(x)\n",
    "        ## Sum \n",
    "        x = x1 + x2\n",
    "        ## Gelu\n",
    "        x = nn.functional.gelu(x)\n",
    "        # x = nn.functional.gelu(x2)\n",
    "\n",
    "        ## Fourier Layer #2\n",
    "        ## K\n",
    "        x1 = self.k2(x)\n",
    "        ## W\n",
    "        x2 = self.w2(x)\n",
    "        ## Sum\n",
    "        x = x1 + x2\n",
    "        ## Gelu\n",
    "        x = nn.functional.gelu(x)\n",
    "        # x = nn.functional.gelu(x2)\n",
    "\n",
    "        ## Fourier Layer #3\n",
    "        ## K\n",
    "        x1 = self.k3(x)\n",
    "        ## W\n",
    "        x2 = self.w3(x)\n",
    "        ## Sum\n",
    "        x = x1 + x2\n",
    "        ## Gelu\n",
    "        x = nn.functional.gelu(x)\n",
    "        # x = nn.functional.gelu(x2)\n",
    "\n",
    "        ## Q\n",
    "        x = self.Q(x)\n",
    "        return x\n"
   ]
  },
  {
   "cell_type": "code",
   "execution_count": 21,
   "metadata": {},
   "outputs": [
    {
     "name": "stdout",
     "output_type": "stream",
     "text": [
      "Number of parameters: 82369\n"
     ]
    }
   ],
   "source": [
    "import operator\n",
    "from functools import reduce\n",
    "\n",
    "def count_parameters(model):\n",
    "    c = 0\n",
    "    for p in list(model.parameters()):\n",
    "        c += reduce(operator.mul, list(p.size() + (2, ) if p.is_complex() else p.size()))\n",
    "    return c\n",
    "\n",
    "model = FourierNetworkOperator1D(1, 1, width=64, modes=2)\n",
    "print(f'Number of parameters: {count_parameters(model)}')"
   ]
  },
  {
   "attachments": {},
   "cell_type": "markdown",
   "metadata": {},
   "source": [
    "## Train"
   ]
  },
  {
   "cell_type": "code",
   "execution_count": 22,
   "metadata": {},
   "outputs": [],
   "source": [
    "## Model Parameters\n",
    "learning_rate = 1e-3\n",
    "batch_size = 64\n",
    "epochs = 10"
   ]
  },
  {
   "cell_type": "code",
   "execution_count": 23,
   "metadata": {},
   "outputs": [],
   "source": [
    "## Loss Function\n",
    "loss_function = nn.MSELoss()"
   ]
  },
  {
   "cell_type": "code",
   "execution_count": 24,
   "metadata": {},
   "outputs": [],
   "source": [
    "## Optimizer \n",
    "optimizer = torch.optim.Adam(model.parameters(), lr=learning_rate)"
   ]
  },
  {
   "cell_type": "code",
   "execution_count": 25,
   "metadata": {},
   "outputs": [
    {
     "data": {
      "image/png": "[encoded data removed]",
      "text/plain": [
       "<Figure size 640x480 with 1 Axes>"
      ]
     },
     "metadata": {},
     "output_type": "display_data"
    }
   ],
   "source": [
    "## Test\n",
    "# k = np.random.randint(1, 100)\n",
    "# m = np.random.randint(1, 100)\n",
    "# x0 = np.random.normal(0, 10)\n",
    "# v0 = np.random.normal(0, 10)\n",
    "t_test= torch.from_numpy(np.linspace(0, 100, 100)).float().unsqueeze(0).unsqueeze(0)\n",
    "x_test = simple_harmonic_oscillator(k, m, x0, v0, t_test)\n",
    "\n",
    "plt.scatter(t_test, x_test, alpha=0.5)\n",
    "plt.scatter(t_test, model(t_test.permute(2, 1, 0)).detach())\n",
    "plt.show()"
   ]
  },
  {
   "cell_type": "code",
   "execution_count": 26,
   "metadata": {},
   "outputs": [],
   "source": [
    "## Training Loop\n",
    "def train_loop(dataloader, model, loss_function, optimizer):\n",
    "    size = len(dataloader.dataset)\n",
    "    for batch, (t, x) in enumerate(dataloader):\n",
    "        # Compute prediction and loss\n",
    "        pred = model(t)\n",
    "        loss = loss_function(pred, x)\n",
    "\n",
    "        # Backpropagation\n",
    "        optimizer.zero_grad()\n",
    "        loss.backward()\n",
    "        optimizer.step()\n",
    "\n",
    "        if batch % 100 == 0:\n",
    "            loss, current = loss.item(), batch * len(t)\n",
    "            print(f\"loss: {loss:>7f}  [{current:>5d}/{size:>5d}]\")"
   ]
  },
  {
   "cell_type": "code",
   "execution_count": 31,
   "metadata": {},
   "outputs": [
    {
     "name": "stdout",
     "output_type": "stream",
     "text": [
      "Epoch 1\n",
      "-------------------------------\n",
      "loss: 3.805937  [    0/100000]\n",
      "loss: 1.524576  [ 6400/100000]\n",
      "loss: 5.299198  [12800/100000]\n",
      "loss: 85.729195  [19200/100000]\n",
      "loss: 15.545757  [25600/100000]\n",
      "loss: 1.249494  [32000/100000]\n",
      "loss: 2.616882  [38400/100000]\n",
      "loss: 0.537055  [44800/100000]\n",
      "loss: 0.458969  [51200/100000]\n",
      "loss: 0.446803  [57600/100000]\n",
      "loss: 0.190210  [64000/100000]\n",
      "loss: 1.173690  [70400/100000]\n",
      "loss: 0.595766  [76800/100000]\n",
      "loss: 1.700216  [83200/100000]\n",
      "loss: 0.645823  [89600/100000]\n",
      "loss: 29.669228  [96000/100000]\n",
      "Epoch 2\n",
      "-------------------------------\n",
      "loss: 0.478109  [    0/100000]\n",
      "loss: 1.120488  [ 6400/100000]\n",
      "loss: 14.375773  [12800/100000]\n",
      "loss: 0.222420  [19200/100000]\n",
      "loss: 0.482792  [25600/100000]\n",
      "loss: 0.379010  [32000/100000]\n",
      "loss: 6.068773  [38400/100000]\n",
      "loss: 2.102761  [44800/100000]\n",
      "loss: 3.382606  [51200/100000]\n",
      "loss: 4.033010  [57600/100000]\n",
      "loss: 9.261181  [64000/100000]\n",
      "loss: 0.180302  [70400/100000]\n",
      "loss: 4.971397  [76800/100000]\n",
      "loss: 0.836085  [83200/100000]\n",
      "loss: 453.955200  [89600/100000]\n",
      "loss: 4.177196  [96000/100000]\n",
      "Epoch 3\n",
      "-------------------------------\n",
      "loss: 4.629668  [    0/100000]\n",
      "loss: 0.372621  [ 6400/100000]\n",
      "loss: 0.409857  [12800/100000]\n",
      "loss: 0.606247  [19200/100000]\n",
      "loss: 0.633597  [25600/100000]\n",
      "loss: 0.621661  [32000/100000]\n",
      "loss: 9.057213  [38400/100000]\n",
      "loss: 1.713369  [44800/100000]\n",
      "loss: 1.637084  [51200/100000]\n",
      "loss: 5.408496  [57600/100000]\n",
      "loss: 0.686533  [64000/100000]\n",
      "loss: 0.302882  [70400/100000]\n",
      "loss: 4.271940  [76800/100000]\n",
      "loss: 1.130356  [83200/100000]\n",
      "loss: 11.399135  [89600/100000]\n",
      "loss: 1.439575  [96000/100000]\n",
      "Epoch 4\n",
      "-------------------------------\n",
      "loss: 10.170712  [    0/100000]\n",
      "loss: 0.271363  [ 6400/100000]\n",
      "loss: 13.627392  [12800/100000]\n",
      "loss: 27.984043  [19200/100000]\n",
      "loss: 5.498738  [25600/100000]\n",
      "loss: 0.426095  [32000/100000]\n",
      "loss: 0.749119  [38400/100000]\n",
      "loss: 0.062482  [44800/100000]\n",
      "loss: 14.195496  [51200/100000]\n",
      "loss: 1.378000  [57600/100000]\n",
      "loss: 0.252739  [64000/100000]\n",
      "loss: 0.873487  [70400/100000]\n",
      "loss: 0.059223  [76800/100000]\n",
      "loss: 0.200944  [83200/100000]\n",
      "loss: 0.121778  [89600/100000]\n",
      "loss: 0.151586  [96000/100000]\n",
      "Epoch 5\n",
      "-------------------------------\n",
      "loss: 4.788390  [    0/100000]\n",
      "loss: 0.378411  [ 6400/100000]\n",
      "loss: 1.250667  [12800/100000]\n",
      "loss: 17.910030  [19200/100000]\n",
      "loss: 3.439113  [25600/100000]\n",
      "loss: 0.684408  [32000/100000]\n",
      "loss: 1.458030  [38400/100000]\n",
      "loss: 0.209380  [44800/100000]\n",
      "loss: 2.141317  [51200/100000]\n",
      "loss: 1.941257  [57600/100000]\n",
      "loss: 0.419849  [64000/100000]\n",
      "loss: 0.279671  [70400/100000]\n",
      "loss: 9.426928  [76800/100000]\n",
      "loss: 0.425610  [83200/100000]\n",
      "loss: 1.242235  [89600/100000]\n",
      "loss: 3.050263  [96000/100000]\n",
      "Epoch 6\n",
      "-------------------------------\n",
      "loss: 0.664818  [    0/100000]\n",
      "loss: 0.271227  [ 6400/100000]\n",
      "loss: 2.508745  [12800/100000]\n",
      "loss: 44.792988  [19200/100000]\n",
      "loss: 27.088015  [25600/100000]\n",
      "loss: 0.555593  [32000/100000]\n",
      "loss: 4.431124  [38400/100000]\n",
      "loss: 0.684110  [44800/100000]\n",
      "loss: 8.577013  [51200/100000]\n",
      "loss: 1.680546  [57600/100000]\n",
      "loss: 0.100616  [64000/100000]\n",
      "loss: 2.629217  [70400/100000]\n",
      "loss: 0.223737  [76800/100000]\n",
      "loss: 0.142005  [83200/100000]\n",
      "loss: 0.119107  [89600/100000]\n",
      "loss: 0.494615  [96000/100000]\n",
      "Epoch 7\n",
      "-------------------------------\n",
      "loss: 26.201332  [    0/100000]\n",
      "loss: 3.628790  [ 6400/100000]\n",
      "loss: 5.304489  [12800/100000]\n",
      "loss: 99.140366  [19200/100000]\n",
      "loss: 18.034130  [25600/100000]\n",
      "loss: 1.624234  [32000/100000]\n",
      "loss: 7.082282  [38400/100000]\n",
      "loss: 0.478089  [44800/100000]\n",
      "loss: 14.286080  [51200/100000]\n",
      "loss: 3.698457  [57600/100000]\n",
      "loss: 0.497019  [64000/100000]\n",
      "loss: 3.226549  [70400/100000]\n",
      "loss: 0.194905  [76800/100000]\n",
      "loss: 1.114775  [83200/100000]\n",
      "loss: 1.547228  [89600/100000]\n",
      "loss: 0.216301  [96000/100000]\n",
      "Epoch 8\n",
      "-------------------------------\n",
      "loss: 4.310798  [    0/100000]\n",
      "loss: 3.881515  [ 6400/100000]\n",
      "loss: 12.495934  [12800/100000]\n",
      "loss: 39.435261  [19200/100000]\n",
      "loss: 3.357483  [25600/100000]\n",
      "loss: 0.478318  [32000/100000]\n",
      "loss: 0.200813  [38400/100000]\n",
      "loss: 0.111033  [44800/100000]\n",
      "loss: 0.343151  [51200/100000]\n",
      "loss: 0.267722  [57600/100000]\n",
      "loss: 0.262848  [64000/100000]\n",
      "loss: 0.422753  [70400/100000]\n",
      "loss: 0.341641  [76800/100000]\n",
      "loss: 0.327320  [83200/100000]\n",
      "loss: 1.639223  [89600/100000]\n",
      "loss: 7.125770  [96000/100000]\n",
      "Epoch 9\n",
      "-------------------------------\n",
      "loss: 0.258925  [    0/100000]\n",
      "loss: 0.542322  [ 6400/100000]\n",
      "loss: 7.887749  [12800/100000]\n",
      "loss: 2.129708  [19200/100000]\n",
      "loss: 8.907035  [25600/100000]\n",
      "loss: 0.557142  [32000/100000]\n",
      "loss: 0.723504  [38400/100000]\n",
      "loss: 0.360226  [44800/100000]\n",
      "loss: 1.224795  [51200/100000]\n",
      "loss: 0.394072  [57600/100000]\n",
      "loss: 0.356081  [64000/100000]\n",
      "loss: 1.136905  [70400/100000]\n",
      "loss: 1.285351  [76800/100000]\n",
      "loss: 0.377020  [83200/100000]\n",
      "loss: 0.670638  [89600/100000]\n",
      "loss: 27.468258  [96000/100000]\n",
      "Epoch 10\n",
      "-------------------------------\n",
      "loss: 9.446907  [    0/100000]\n",
      "loss: 16.726765  [ 6400/100000]\n",
      "loss: 1.849869  [12800/100000]\n",
      "loss: 1.785657  [19200/100000]\n",
      "loss: 2.194337  [25600/100000]\n",
      "loss: 0.256111  [32000/100000]\n",
      "loss: 7.484560  [38400/100000]\n",
      "loss: 0.342812  [44800/100000]\n",
      "loss: 5.918467  [51200/100000]\n",
      "loss: 9.147306  [57600/100000]\n",
      "loss: 0.917400  [64000/100000]\n",
      "loss: 0.394649  [70400/100000]\n",
      "loss: 1.175655  [76800/100000]\n",
      "loss: 0.409304  [83200/100000]\n",
      "loss: 1.097201  [89600/100000]\n",
      "loss: 0.098559  [96000/100000]\n",
      "Done!\n"
     ]
    }
   ],
   "source": [
    "for t in range(epochs):\n",
    "    print(f\"Epoch {t+1}\\n-------------------------------\")\n",
    "    train_loop(dataloader, model, loss_function, optimizer)\n",
    "print(\"Done!\")"
   ]
  },
  {
   "attachments": {},
   "cell_type": "markdown",
   "metadata": {},
   "source": [
    "## Test"
   ]
  },
  {
   "cell_type": "code",
   "execution_count": 32,
   "metadata": {},
   "outputs": [
    {
     "data": {
      "image/png": "[encoded data removed]",
      "text/plain": [
       "<Figure size 640x480 with 1 Axes>"
      ]
     },
     "metadata": {},
     "output_type": "display_data"
    }
   ],
   "source": [
    "## Test\n",
    "plt.scatter(t_test, x_test, alpha=0.5)\n",
    "plt.scatter(t_test, model(t_test).detach())\n",
    "plt.show()"
   ]
  },
  {
   "cell_type": "code",
   "execution_count": null,
   "metadata": {},
   "outputs": [],
   "source": []
  }
 ],
 "metadata": {
  "kernelspec": {
   "display_name": "Python 3",
   "language": "python",
   "name": "python3"
  },
  "language_info": {
   "codemirror_mode": {
    "name": "ipython",
    "version": 3
   },
   "file_extension": ".py",
   "mimetype": "text/x-python",
   "name": "python",
   "nbconvert_exporter": "python",
   "pygments_lexer": "ipython3",
   "version": "3.10.8"
  },
  "orig_nbformat": 4,
  "vscode": {
   "interpreter": {
    "hash": "9b3b15e79d64212a14c381e1bc9a41101994b32312634469deb1a16fd6054240"
   }
  }
 },
 "nbformat": 4,
 "nbformat_minor": 2
}
